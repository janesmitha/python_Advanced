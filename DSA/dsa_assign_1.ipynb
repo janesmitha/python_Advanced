{
 "cells": [
  {
   "cell_type": "code",
   "execution_count": null,
   "id": "d5517a13",
   "metadata": {},
   "outputs": [],
   "source": [
    "\n",
    "💡 **Q1.** Given an array of integers nums and an integer target, return indices of the two numbers such that they add up to target.\n",
    "\n",
    "You may assume that each input would have exactly one solution, and you may not use the same element twice.\n",
    "\n",
    "You can return the answer in any order.\n"
   ]
  },
  {
   "cell_type": "code",
   "execution_count": 4,
   "id": "9ec91c0e",
   "metadata": {},
   "outputs": [],
   "source": [
    "from typing import List\n",
    "class Solution:\n",
    "    def twoSum(self, nums: List[int], target: int) -> List[int]:\n",
    "        check={}\n",
    "        for i, value in enumerate(nums):\n",
    "            remain=target-nums[i]\n",
    "\n",
    "            if remain in check:\n",
    "                return [check[remain],i]\n",
    "            else:\n",
    "                check[value]=i\n",
    "              \n",
    "               \n",
    "                "
   ]
  },
  {
   "cell_type": "code",
   "execution_count": 5,
   "id": "aa185a46",
   "metadata": {},
   "outputs": [
    {
     "name": "stdout",
     "output_type": "stream",
     "text": [
      "[1, 2]\n"
     ]
    }
   ],
   "source": [
    "s=Solution()\n",
    "nums =[3,2,4]\n",
    "target = 6\n",
    "print(s.twoSum(nums,target))"
   ]
  },
  {
   "cell_type": "code",
   "execution_count": null,
   "id": "9fa08b15",
   "metadata": {},
   "outputs": [],
   "source": [
    "\n",
    "💡 **Q2.** Given an integer array nums and an integer val, remove all occurrences of val in nums in-place. The order of the elements may be changed. Then return the number of elements in nums which are not equal to val.\n",
    "\n",
    "Consider the number of elements in nums which are not equal to val be k, to get accepted, you need to do the following things:\n",
    "\n",
    "- Change the array nums such that the first k elements of nums contain the elements which are not equal to val. The remaining elements of nums are not important as well as the size of nums.\n",
    "- Return k.\n"
   ]
  },
  {
   "cell_type": "code",
   "execution_count": 25,
   "id": "4e9cd7b6",
   "metadata": {},
   "outputs": [],
   "source": [
    "class Solution:\n",
    "    #writing function to remove the specified value\n",
    "    def removeElement(self, nums: List[int], val: int) -> int:\n",
    "        #loop to check whether the value is present in nums\n",
    "        while val in nums:\n",
    "            #if val present remove the value\n",
    "            nums.remove(val)\n",
    "            #return the list of nums\n",
    "        return nums \n",
    "        \n",
    "    "
   ]
  },
  {
   "cell_type": "code",
   "execution_count": 26,
   "id": "c3b26f1a",
   "metadata": {},
   "outputs": [
    {
     "name": "stdout",
     "output_type": "stream",
     "text": [
      "[3, 1, 4]\n"
     ]
    }
   ],
   "source": [
    "s=Solution()\n",
    "nums=[2,3,1,4,2]\n",
    "val=2\n",
    "print(s.removeElement(nums,val))"
   ]
  },
  {
   "cell_type": "markdown",
   "id": "87b8f9a9",
   "metadata": {},
   "source": [
    "\n",
    "Given a sorted array of distinct integers and a target value, return the index if the target is found. If not, return the index where it would be if it were inserted in order.\n",
    "\n",
    "You must write an algorithm with O(log n) runtime complexity.\n",
    "\n",
    "**Example 1:**\n",
    "Input: nums = [1,3,5,6], target = 5\n",
    "\n",
    "Output: 2\n",
    "\n"
   ]
  },
  {
   "cell_type": "code",
   "execution_count": 106,
   "id": "b65ff4f7",
   "metadata": {},
   "outputs": [],
   "source": [
    "import bisect\n",
    "class SortedArray:\n",
    "    def insert_order(self, nums: List[int], target_val: int) -> int:\n",
    "        bic = bisect.bisect_left(nums,target_val)\n",
    "        return bic"
   ]
  },
  {
   "cell_type": "code",
   "execution_count": 107,
   "id": "c54beafb",
   "metadata": {},
   "outputs": [
    {
     "name": "stdout",
     "output_type": "stream",
     "text": [
      "4\n"
     ]
    }
   ],
   "source": [
    "arr=SortedArray()\n",
    "nums=[1,3,5,6]\n",
    "target_val=8\n",
    "print(arr.insert_order(nums,target_val))\n"
   ]
  },
  {
   "cell_type": "markdown",
   "id": "a60348a0",
   "metadata": {},
   "source": [
    "<aside>\n",
    "💡 **Q4.** You are given a large integer represented as an integer array digits, where each digits[i] is the ith digit of the integer. The digits are ordered from most significant to least significant in left-to-right order. The large integer does not contain any leading 0's.\n",
    "\n",
    "Increment the large integer by one and return the resulting array of digits.\n",
    "\n",
    "**Example 1:**\n",
    "Input: digits = [1,2,3]\n",
    "Output: [1,2,4]\n",
    "\n",
    "**Explanation:** The array represents the integer 123.\n",
    "\n",
    "Incrementing by one gives 123 + 1 = 124.\n",
    "Thus, the result should be [1,2,4].\n",
    "\n",
    "</aside>"
   ]
  },
  {
   "cell_type": "code",
   "execution_count": 124,
   "id": "f11d76f4",
   "metadata": {},
   "outputs": [],
   "source": [
    "class Increment:\n",
    "    def merge(self, nums1: List[int], m: int, nums2: List[int], n: int) -> None:\n",
    "        for i in range(m,m+n):\n",
    "            nums1[i]=nums2[i-m]\n",
    "        return nums1.sort()"
   ]
  },
  {
   "cell_type": "code",
   "execution_count": 139,
   "id": "5adc25f0",
   "metadata": {},
   "outputs": [],
   "source": [
    "class Solution:\n",
    "    def plusOne(self, digits: List[int]) -> List[int]:\n",
    "        result=[]\n",
    "        s= \"\"\n",
    "        for i in digits:\n",
    "            s+=str(i)\n",
    "        s = int(s)+1    \n",
    "        s = str(s)\n",
    "        for i in s:\n",
    "            result.append(int(i))\n",
    "        return result"
   ]
  },
  {
   "cell_type": "code",
   "execution_count": 141,
   "id": "b33c0461",
   "metadata": {},
   "outputs": [
    {
     "name": "stdout",
     "output_type": "stream",
     "text": [
      "[1, 2, 4]\n"
     ]
    }
   ],
   "source": [
    "s=Solution()\n",
    "digits=[1,2,3]\n",
    "print(s.plusOne(digits))"
   ]
  },
  {
   "cell_type": "markdown",
   "id": "f6410b3d",
   "metadata": {},
   "source": [
    "\n",
    "💡 **Q5.** You are given two integer arrays nums1 and nums2, sorted in non-decreasing order, and two integers m and n, representing the number of elements in nums1 and nums2 respectively.\n",
    "\n",
    "Merge nums1 and nums2 into a single array sorted in non-decreasing order.\n",
    "\n",
    "The final sorted array should not be returned by the function, but instead be stored inside the array nums1. To accommodate this, nums1 has a length of m + n, where the first m elements denote the elements that should be merged, and the last n elements are set to 0 and should be ignored. nums2 has a length of n.\n",
    "\n",
    "**Example 1:**\n",
    "Input: nums1 = [1,2,3,0,0,0], m = 3, nums2 = [2,5,6], n = 3\n",
    "Output: [1,2,2,3,5,6]\n",
    "\n",
    "**Explanation:** The arrays we are merging are [1,2,3] and [2,5,6].\n",
    "The result of the merge is [1,2,2,3,5,6] with the underlined elements coming from nums1.\n",
    "\n"
   ]
  },
  {
   "cell_type": "code",
   "execution_count": 149,
   "id": "2c89656c",
   "metadata": {},
   "outputs": [],
   "source": [
    "class Solution:\n",
    "    def merge(self, nums1: List[int], m: int, nums2: List[int], n: int) -> None:\n",
    "        k = m + n - 1\n",
    "        i, j = m - 1, n - 1\n",
    "        while j >= 0:\n",
    "            if i >= 0 and nums1[i] > nums2[j]:\n",
    "                nums1[k] = nums1[i]\n",
    "                i -= 1\n",
    "            else:\n",
    "                nums1[k] = nums2[j]\n",
    "                j -= 1\n",
    "            k -= 1"
   ]
  },
  {
   "cell_type": "code",
   "execution_count": null,
   "id": "cd1ecffa",
   "metadata": {},
   "outputs": [],
   "source": []
  },
  {
   "cell_type": "markdown",
   "id": "a611c48f",
   "metadata": {},
   "source": [
    "\n",
    "💡 **Q6.** Given an integer array nums, return true if any value appears at least twice in the array, and return false if every element is distinct.\n",
    "\n",
    "**Example 1:**\n",
    "Input: nums = [1,2,3,1]\n",
    "\n",
    "Output: true\n",
    "    "
   ]
  },
  {
   "cell_type": "code",
   "execution_count": 150,
   "id": "c483a19a",
   "metadata": {},
   "outputs": [],
   "source": [
    "class Find_duplicte:\n",
    "    #funciton to select duplicate\n",
    "    def containsDuplicate(self, nums: List[int]) -> bool:\n",
    "        #returning nums which are not equal to length of nums\n",
    "        return len(set(nums))!=len(nums)"
   ]
  },
  {
   "cell_type": "code",
   "execution_count": 154,
   "id": "8da6b993",
   "metadata": {
    "scrolled": true
   },
   "outputs": [
    {
     "name": "stdout",
     "output_type": "stream",
     "text": [
      "True\n"
     ]
    }
   ],
   "source": [
    "v=Find_duplicte()\n",
    "nums=[2,3,1,4,1]\n",
    "print(v.containsDuplicate(nums))"
   ]
  },
  {
   "cell_type": "markdown",
   "id": "9022051b",
   "metadata": {},
   "source": [
    "\n",
    "💡 **Q7.** Given an integer array nums, move all 0's to the end of it while maintaining the relative order of the nonzero elements.\n",
    "\n",
    "Note that you must do this in-place without making a copy of the array.\n",
    "\n",
    "**Example 1:**\n",
    "Input: nums = [0,1,0,3,12]\n",
    "Output: [1,3,12,0,0]\n",
    "\n"
   ]
  },
  {
   "cell_type": "code",
   "execution_count": 156,
   "id": "d79d1272",
   "metadata": {},
   "outputs": [
    {
     "name": "stdout",
     "output_type": "stream",
     "text": [
      "[1, 3, 12, 0, 0]\n"
     ]
    }
   ],
   "source": [
    "# Function to move all zeros present in the list to the end\n",
    "def reorder(A):\n",
    " \n",
    "    # `k` stores the index of the next available position\n",
    "    k = 0\n",
    " \n",
    "    # do for each element\n",
    "    for i in A:\n",
    "        # if the current element is non-zero, put the element at the\n",
    "        # next free position in the list\n",
    "        if i:\n",
    "            A[k] = i\n",
    "            k = k + 1\n",
    " \n",
    "    # move all 0's to the end of the list (remaining indices)\n",
    "    for i in range(k, len(A)):\n",
    "        A[i] = 0\n",
    " \n",
    " \n",
    "if __name__ == '__main__':\n",
    " \n",
    "    A = [0,1,0,3,12]\n",
    " \n",
    "    reorder(A)\n",
    "    print(A)"
   ]
  },
  {
   "cell_type": "markdown",
   "id": "5be31eb4",
   "metadata": {},
   "source": [
    "\n",
    "💡 **Q8.** You have a set of integers s, which originally contains all the numbers from 1 to n. Unfortunately, due to some error, one of the numbers in s got duplicated to another number in the set, which results in repetition of one number and loss of another number.\n",
    "\n",
    "You are given an integer array nums representing the data status of this set after the error.\n",
    "\n",
    "Find the number that occurs twice and the number that is missing and return them in the form of an array.\n",
    "\n",
    "**Example 1:**\n",
    "Input: nums = [1,2,2,4]\n",
    "Output: [2,3]\n",
    "\n"
   ]
  },
  {
   "cell_type": "code",
   "execution_count": 9,
   "id": "e88d54bf",
   "metadata": {},
   "outputs": [
    {
     "ename": "TypeError",
     "evalue": "list expected at most 1 argument, got 3",
     "output_type": "error",
     "traceback": [
      "\u001b[1;31m---------------------------------------------------------------------------\u001b[0m",
      "\u001b[1;31mTypeError\u001b[0m                                 Traceback (most recent call last)",
      "\u001b[1;32m~\\AppData\\Local\\Temp\\ipykernel_19720\\1139758895.py\u001b[0m in \u001b[0;36m<module>\u001b[1;34m\u001b[0m\n\u001b[1;32m----> 1\u001b[1;33m \u001b[1;32mclass\u001b[0m \u001b[0mDuplicated\u001b[0m\u001b[1;33m(\u001b[0m\u001b[0mobject\u001b[0m\u001b[1;33m)\u001b[0m\u001b[1;33m:\u001b[0m\u001b[1;33m\u001b[0m\u001b[1;33m\u001b[0m\u001b[0m\n\u001b[0m\u001b[0;32m      2\u001b[0m     \u001b[1;32mdef\u001b[0m \u001b[0mfindErrorNums\u001b[0m\u001b[1;33m(\u001b[0m\u001b[0mself\u001b[0m\u001b[1;33m,\u001b[0m \u001b[0mnums\u001b[0m\u001b[1;33m)\u001b[0m\u001b[1;33m:\u001b[0m\u001b[1;33m\u001b[0m\u001b[1;33m\u001b[0m\u001b[0m\n\u001b[0;32m      3\u001b[0m         \"\"\"\n\u001b[0;32m      4\u001b[0m         \u001b[1;33m:\u001b[0m\u001b[0mtype\u001b[0m \u001b[0mnums\u001b[0m\u001b[1;33m:\u001b[0m \u001b[0mList\u001b[0m\u001b[1;33m[\u001b[0m\u001b[0mint\u001b[0m\u001b[1;33m]\u001b[0m\u001b[1;33m\u001b[0m\u001b[1;33m\u001b[0m\u001b[0m\n\u001b[0;32m      5\u001b[0m         \u001b[1;33m:\u001b[0m\u001b[0mrtype\u001b[0m\u001b[1;33m:\u001b[0m \u001b[0mList\u001b[0m\u001b[1;33m[\u001b[0m\u001b[0mint\u001b[0m\u001b[1;33m]\u001b[0m\u001b[1;33m\u001b[0m\u001b[1;33m\u001b[0m\u001b[0m\n",
      "\u001b[1;31mTypeError\u001b[0m: list expected at most 1 argument, got 3"
     ]
    }
   ],
   "source": [
    "class Duplicated(object):\n",
    "    def findErrorNums(self, nums):\n",
    "        \"\"\"\n",
    "        :type nums: List[int]\n",
    "        :rtype: List[int]\n",
    "        \"\"\"\n",
    "\n",
    "        result = [0, 0]\n",
    "        numsLen = len(nums)\n",
    "        nums = sorted(nums)\n",
    "        num = 0\n",
    "        for i in range(numsLen - 1):\n",
    "            num ^= (i + 1)\n",
    "            if nums[i] == nums[i + 1]:\n",
    "                result[0] = nums[i]\n",
    "            else:\n",
    "                num ^= nums[i]\n",
    "        result[1] = num ^ numsLen ^ nums[numsLen - 1]\n",
    "        return result\n",
    " \n",
    "   "
   ]
  },
  {
   "cell_type": "code",
   "execution_count": null,
   "id": "ecfc8693",
   "metadata": {},
   "outputs": [],
   "source": []
  }
 ],
 "metadata": {
  "kernelspec": {
   "display_name": "Python 3 (ipykernel)",
   "language": "python",
   "name": "python3"
  },
  "language_info": {
   "codemirror_mode": {
    "name": "ipython",
    "version": 3
   },
   "file_extension": ".py",
   "mimetype": "text/x-python",
   "name": "python",
   "nbconvert_exporter": "python",
   "pygments_lexer": "ipython3",
   "version": "3.9.13"
  }
 },
 "nbformat": 4,
 "nbformat_minor": 5
}
