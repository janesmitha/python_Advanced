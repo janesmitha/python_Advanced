{
 "cells": [
  {
   "cell_type": "code",
   "execution_count": null,
   "id": "59290be2",
   "metadata": {},
   "outputs": [],
   "source": [
    "Question:1\n",
    "Given an integer array nums of 2n integers, group these integers into n pairs (a1, b1), (a2, b2),..., (an, bn) \n",
    "such that the sum of min(ai, bi) for all i is maximized. Return the maximized sum.\n",
    "\n",
    "**Example 1:**\n",
    "Input: nums = [1,4,3,2]\n",
    "Output: 4\n",
    "\n",
    "**Explanation:** All possible pairings (ignoring the ordering of elements) are:\n",
    "\n",
    "1. (1, 4), (2, 3) -> min(1, 4) + min(2, 3) = 1 + 2 = 3\n",
    "2. (1, 3), (2, 4) -> min(1, 3) + min(2, 4) = 1 + 2 = 3\n",
    "3. (1, 2), (3, 4) -> min(1, 2) + min(3, 4) = 1 + 3 = 4\n",
    "So the maximum possible sum is 4\n"
   ]
  },
  {
   "cell_type": "code",
   "execution_count": 4,
   "id": "7edc3e10",
   "metadata": {},
   "outputs": [],
   "source": [
    "#to check  nums\n",
    "def arrayPairSum(nums):\n",
    "    nums.sort()\n",
    "    #taking len function to check lengthof the nums\n",
    "    n = len(nums)\n",
    "    #initialisg pairsum to zero\n",
    "    pair_sum = 0\n",
    "    #checkinloop to sum of grouping of numbers\n",
    "    for i in range(0, n, 2):\n",
    "        pair_sum += nums[i]\n",
    "\n",
    "    return pair_sum\n"
   ]
  },
  {
   "cell_type": "code",
   "execution_count": 5,
   "id": "ce30ec92",
   "metadata": {},
   "outputs": [
    {
     "name": "stdout",
     "output_type": "stream",
     "text": [
      "7\n"
     ]
    }
   ],
   "source": [
    "nums = [6, 3, 5, 2]\n",
    "print(arrayPairSum(nums)) "
   ]
  },
  {
   "cell_type": "code",
   "execution_count": null,
   "id": "46b85732",
   "metadata": {},
   "outputs": [],
   "source": [
    "Question:2\n",
    "Alice has n candies, where the ith candy is of type candyType[i]. Alice noticed that she started to gain weight, so she visited a doctor. \n",
    "\n",
    "The doctor advised Alice to only eat n / 2 of the candies she has (n is always even). Alice likes her candies very much, and she wants to eat the maximum number of different types of candies while still following the doctor's advice. \n",
    "\n",
    "Given the integer array candyType of length n, return the maximum number of different types of candies she can eat if she only eats n / 2 of them.\n",
    "\n",
    "Example 1:\n",
    "Input: candyType = [1,1,2,2,3,3]\n",
    "Output: 3\n",
    "\n",
    "Explanation: Alice can only eat 6 / 2 = 3 candies. Since there are only 3 types, she can eat one of each type."
   ]
  },
  {
   "cell_type": "markdown",
   "id": "c94bc040",
   "metadata": {},
   "source": [
    "Here's the algorithm to solve the problem:\n",
    "\n",
    "1.Create a set called unique_candies to store the unique candy types.\n",
    "\n",
    "2.Iterate over the candyType array.\n",
    "\n",
    "3.Add each candy type to the unique_candies set.\n",
    "\n",
    "4.Calculate the maximum number of different candy types Alice can eat by taking the minimum value between the size of unique_candies and n/2.\n",
    "\n",
    "5.Return the maximum number of different candy types."
   ]
  },
  {
   "cell_type": "code",
   "execution_count": 8,
   "id": "6337b5b6",
   "metadata": {},
   "outputs": [],
   "source": [
    "#we are passing candytype as an argument to funciton\n",
    "def distributeCandies(candyType):\n",
    "    #assigning to set\n",
    "    unique_candies = set()\n",
    "    #for each candy in candytype checking uniquecandies\n",
    "    for candy in candyType:\n",
    "        unique_candies.add(candy)\n",
    "#checking maximum candies by calculating \n",
    "\n",
    "    max_candies = min(len(unique_candies), len(candyType) // 2)\n",
    "    return max_candies\n"
   ]
  },
  {
   "cell_type": "code",
   "execution_count": 12,
   "id": "f95de3c9",
   "metadata": {},
   "outputs": [
    {
     "name": "stdout",
     "output_type": "stream",
     "text": [
      "5\n"
     ]
    }
   ],
   "source": [
    "candyType = [1, 1, 2,2,2, 3,3,4,4,5]\n",
    "print(distributeCandies(candyType))  \n"
   ]
  },
  {
   "cell_type": "code",
   "execution_count": null,
   "id": "bd497928",
   "metadata": {},
   "outputs": [],
   "source": [
    "Question:3\n",
    "We define a harmonious array as an array where the difference between its maximum value\n",
    "and its minimum value is exactly 1.\n",
    "\n",
    "Given an integer array nums, return the length of its longest harmonious subsequence\n",
    "among all its possible subsequences.\n",
    "\n",
    "A subsequence of an array is a sequence that can be derived from the array by deleting some or no elements without changing the order of the remaining elements.\n",
    "\n",
    "Example 1:\n",
    "Input: nums = [1,3,2,2,5,2,3,7]\n",
    "Output: 5\n",
    "\n",
    "Explanation: The longest harmonious subsequence is [3,2,2,2,3]."
   ]
  },
  {
   "cell_type": "markdown",
   "id": "51344c05",
   "metadata": {},
   "source": [
    "1.Create a dictionary num_counts to store the frequency count of each number in the nums array.\n",
    "2.Initialize a variable max_length to 0.\n",
    "3.Iterate over the num_counts dictionary.\n",
    "4.For each number num, check if num+1 exists in the dictionary.\n",
    "5.If it exists, update max_length to the maximum of max_length and the sum of the frequencies of num and num+1.\n",
    "6.Return max_length."
   ]
  },
  {
   "cell_type": "code",
   "execution_count": 13,
   "id": "e8aca92d",
   "metadata": {},
   "outputs": [],
   "source": [
    "#find harmoniousequence\n",
    "def harmonious_seq(nums):\n",
    "    #numcnts as dictionary\n",
    "    num_cnts={}\n",
    "    for num in nums:\n",
    "        #calculating numcnts\n",
    "        num_cnts[num]=num_cnts.get(num,0) + 1\n",
    "    max_length=0\n",
    "    for num in num_cnts:\n",
    "        if num + 1 in num_cnts:\n",
    "            max_length=max(max_length,num_cnts[num] + num_cnts[num+1])\n",
    "    return max_length        "
   ]
  },
  {
   "cell_type": "code",
   "execution_count": 18,
   "id": "541457ce",
   "metadata": {},
   "outputs": [
    {
     "name": "stdout",
     "output_type": "stream",
     "text": [
      "5\n"
     ]
    }
   ],
   "source": [
    "nums = [1,3,2,2,5,2,3,7]\n",
    "print(harmonious_seq(nums)) \n"
   ]
  },
  {
   "cell_type": "code",
   "execution_count": null,
   "id": "94c9202d",
   "metadata": {},
   "outputs": [],
   "source": [
    "Question 4\n",
    "You have a long flowerbed in which some of the plots are planted, and some are not.\n",
    "However, flowers cannot be planted in adjacent plots.\n",
    "Given an integer array flowerbed containing 0's and 1's, where 0 means empty and 1 means not empty, and an integer n, return true if n new flowers can be planted in the flowerbed without violating the no-adjacent-flowers rule and false otherwise.\n",
    "\n",
    "Example 1:\n",
    "Input: flowerbed = [1,0,0,0,1], n = 1\n",
    "Output: true"
   ]
  },
  {
   "cell_type": "markdown",
   "id": "34e06445",
   "metadata": {},
   "source": [
    "1.Initialize a variable count to 0, which represents the count of available adjacent empty plots.\n",
    "2.Iterate over the flowerbed array.\n",
    "3.If the current plot is 0 and its adjacent plots (previous and next) are also 0 or out of bounds, increment count by 1.\n",
    "4.This means we have found an available empty plot where a flower can be planted.\n",
    "5.Additionally, set the current plot to 1 to mark it as planted.\n",
    "6.If count reaches n, return True since we have found enough available plots for planting n flowers.\n",
    "7.If the iteration completes and count is less than n, return False since we couldn't find enough available plots for planting n flowers."
   ]
  },
  {
   "cell_type": "code",
   "execution_count": 19,
   "id": "2d60bc93",
   "metadata": {},
   "outputs": [],
   "source": [
    "def canPlaceFlowers(flowerbed, n):\n",
    "    count = 0\n",
    "    for i in range(len(flowerbed)):\n",
    "        if flowerbed[i] == 0 and (i == 0 or flowerbed[i - 1] == 0) and (i == len(flowerbed) - 1 or flowerbed[i + 1] == 0):\n",
    "            flowerbed[i] = 1\n",
    "            count += 1\n",
    "        if count >= n:\n",
    "            return True\n",
    "    return False\n"
   ]
  },
  {
   "cell_type": "code",
   "execution_count": 21,
   "id": "1aa8a320",
   "metadata": {},
   "outputs": [
    {
     "name": "stdout",
     "output_type": "stream",
     "text": [
      "True\n"
     ]
    }
   ],
   "source": [
    "flowerbed = [1, 0, 0, 0, 1]\n",
    "n = 0\n",
    "print(canPlaceFlowers(flowerbed, n))  # Output: True\n"
   ]
  },
  {
   "cell_type": "code",
   "execution_count": null,
   "id": "b2ebe0d1",
   "metadata": {},
   "outputs": [],
   "source": [
    "Question 5\n",
    "Given an integer array nums, find three numbers whose product is maximum and return the maximum product.\n",
    "\n",
    "Example 1:\n",
    "Input: nums = [1,2,3]\n",
    "Output: 6"
   ]
  },
  {
   "cell_type": "code",
   "execution_count": 22,
   "id": "1391e10b",
   "metadata": {},
   "outputs": [],
   "source": [
    "#find max product\n",
    "def maximumProduct(nums):\n",
    "    #sorting of numbers\n",
    "    nums.sort()\n",
    "    #find length of numbers\n",
    "    n = len(nums)\n",
    "    return max(nums[n - 1] * nums[n - 2] * nums[n - 3], nums[0] * nums[1] * nums[n - 1])\n"
   ]
  },
  {
   "cell_type": "code",
   "execution_count": 23,
   "id": "5c41ceca",
   "metadata": {},
   "outputs": [
    {
     "name": "stdout",
     "output_type": "stream",
     "text": [
      "24\n"
     ]
    }
   ],
   "source": [
    "nums = [1, 2, 3, 4]\n",
    "print(maximumProduct(nums))  # Output: 4 * 3 * 2 = 24\n"
   ]
  },
  {
   "cell_type": "code",
   "execution_count": null,
   "id": "88df2724",
   "metadata": {},
   "outputs": [],
   "source": [
    "Question 6\n",
    "Given an array of integers nums which is sorted in ascending order, and an integer target,\n",
    "write a function to search target in nums. If target exists, then return its index. Otherwise,\n",
    "return -1.\n",
    "\n",
    "You must write an algorithm with O(log n) runtime complexity.\n",
    "\n",
    "Input: nums = [-1,0,3,5,9,12], target = 9\n",
    "Output: 4\n",
    "\n",
    "Explanation: 9 exists in nums and its index is 4"
   ]
  },
  {
   "cell_type": "code",
   "execution_count": 25,
   "id": "d3e1da46",
   "metadata": {},
   "outputs": [],
   "source": [
    "#searching the numbers to get target\n",
    "def search(nums, target):\n",
    "    left = 0\n",
    "    right = len(nums) - 1\n",
    "\n",
    "    while left <= right:\n",
    "        middle = (left + right) // 2\n",
    "        if nums[middle] == target:\n",
    "            return middle\n",
    "        elif nums[middle] > target:\n",
    "            right = middle - 1\n",
    "        else:\n",
    "            left = middle + 1\n",
    "\n",
    "    return -1"
   ]
  },
  {
   "cell_type": "code",
   "execution_count": 26,
   "id": "a95a69ae",
   "metadata": {},
   "outputs": [
    {
     "name": "stdout",
     "output_type": "stream",
     "text": [
      "4\n"
     ]
    }
   ],
   "source": [
    "nums = [-1, 0, 3, 5, 9, 12]\n",
    "target = 9\n",
    "print(search(nums, target))  # Output: 4\n"
   ]
  },
  {
   "cell_type": "code",
   "execution_count": null,
   "id": "2f083063",
   "metadata": {},
   "outputs": [],
   "source": [
    "Question 7\n",
    "An array is monotonic if it is either monotone increasing or monotone decreasing.\n",
    "\n",
    "An array nums is monotone increasing if for all i <= j, nums[i] <= nums[j]. An array nums is\n",
    "monotone decreasing if for all i <= j, nums[i] >= nums[j].\n",
    "\n",
    "Given an integer array nums, return true if the given array is monotonic, or false otherwise.\n",
    "\n",
    "Example 1:\n",
    "Input: nums = [1,2,2,3]\n",
    "Output: true"
   ]
  },
  {
   "cell_type": "code",
   "execution_count": 27,
   "id": "b79af251",
   "metadata": {},
   "outputs": [],
   "source": [
    "def isMonotonic(nums):\n",
    "    is_increasing = True\n",
    "    is_decreasing = True\n",
    "\n",
    "    for i in range(1, len(nums)):\n",
    "        if nums[i] > nums[i - 1]:\n",
    "            is_decreasing = False\n",
    "        if nums[i] < nums[i - 1]:\n",
    "            is_increasing = False\n",
    "        if not is_increasing and not is_decreasing:\n",
    "            break\n",
    "\n",
    "    return is_increasing or is_decreasing\n"
   ]
  },
  {
   "cell_type": "code",
   "execution_count": 28,
   "id": "c23ad951",
   "metadata": {},
   "outputs": [
    {
     "name": "stdout",
     "output_type": "stream",
     "text": [
      "True\n",
      "True\n",
      "False\n"
     ]
    }
   ],
   "source": [
    "nums1 = [1, 2, 3, 4, 5]\n",
    "print(isMonotonic(nums1))  # Output: True\n",
    "\n",
    "nums2 = [5, 4, 3, 2, 1]\n",
    "print(isMonotonic(nums2))  # Output: True\n",
    "\n",
    "nums3 = [1, 2, 3, 2, 5]\n",
    "print(isMonotonic(nums3))  # Output: False\n"
   ]
  },
  {
   "cell_type": "code",
   "execution_count": null,
   "id": "874eadd6",
   "metadata": {},
   "outputs": [],
   "source": [
    "Question 8\n",
    "You are given an integer array nums and an integer k.\n",
    "\n",
    "In one operation, you can choose any index i where 0 <= i < nums.length and change nums[i] to nums[i] + x where x is an integer from the range [-k, k]. You can apply this operation at most once for each index i.\n",
    "\n",
    "The score of nums is the difference between the maximum and minimum elements in nums.\n",
    "\n",
    "Return the minimum score of nums after applying the mentioned operation at most once for each index in it.\n",
    "\n",
    "Example 1:\n",
    "Input: nums = [1], k = 0\n",
    "Output: 0\n",
    "\n",
    "Explanation: The score is max(nums) - min(nums) = 1 - 1 = 0."
   ]
  },
  {
   "cell_type": "code",
   "execution_count": 29,
   "id": "77eea635",
   "metadata": {},
   "outputs": [],
   "source": [
    "def minimumScore(nums, k):\n",
    "    min_score = float('inf')\n",
    "\n",
    "    for x in range(-k, k + 1):\n",
    "        min_val = float('inf')\n",
    "        max_val = float('-inf')\n",
    "\n",
    "        for num in nums:\n",
    "            min_val = min(min_val, num + x)\n",
    "            max_val = max(max_val, num + x)\n",
    "\n",
    "        score = max_val - min_val\n",
    "        min_score = min(min_score, score)\n",
    "\n",
    "    return min_score\n"
   ]
  },
  {
   "cell_type": "code",
   "execution_count": 30,
   "id": "43dfbbf6",
   "metadata": {},
   "outputs": [
    {
     "name": "stdout",
     "output_type": "stream",
     "text": [
      "6\n"
     ]
    }
   ],
   "source": [
    "nums = [1, 3, 7]\n",
    "k = 3\n",
    "print(minimumScore(nums, k))  # Output: 6\n"
   ]
  }
 ],
 "metadata": {
  "kernelspec": {
   "display_name": "Python 3 (ipykernel)",
   "language": "python",
   "name": "python3"
  },
  "language_info": {
   "codemirror_mode": {
    "name": "ipython",
    "version": 3
   },
   "file_extension": ".py",
   "mimetype": "text/x-python",
   "name": "python",
   "nbconvert_exporter": "python",
   "pygments_lexer": "ipython3",
   "version": "3.9.13"
  }
 },
 "nbformat": 4,
 "nbformat_minor": 5
}
