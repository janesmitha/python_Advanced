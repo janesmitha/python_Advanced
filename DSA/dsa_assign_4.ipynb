{
 "cells": [
  {
   "cell_type": "code",
   "execution_count": null,
   "metadata": {},
   "outputs": [],
   "source": [
    "\n",
    "💡 **Question 1**\n",
    "Given three integer arrays arr1, arr2 and arr3 **sorted** in **strictly increasing** order, return a sorted array \n",
    "\n",
    "of **only** the integers that appeared in **all** three arrays.\n",
    "\n",
    "**Example 1:**\n",
    "\n",
    "Input: arr1 = [1,2,3,4,5], arr2 = [1,2,5,7,9], arr3 = [1,3,4,5,8]\n",
    "\n",
    "Output: [1,5]\n",
    "\n",
    "**Explanation:** Only 1 and 5 appeared in the three arrays.\n"
   ]
  },
  {
   "cell_type": "code",
   "execution_count": 1,
   "metadata": {},
   "outputs": [],
   "source": [
    "\n",
    "def findArry(arr1,arr2,arr3):\n",
    "    print(\"commmon values in three arrays:\",end=\"\")\n",
    "    #set contains unique values\n",
    "    arr1=set(arr1)\n",
    "    arr2=set(arr2)\n",
    "    arr3=set(arr3)\n",
    "    print(arr1 & arr2 & arr3)"
   ]
  },
  {
   "cell_type": "code",
   "execution_count": 2,
   "metadata": {},
   "outputs": [
    {
     "name": "stdout",
     "output_type": "stream",
     "text": [
      "commmon values in three arrays:{1, 5}\n"
     ]
    }
   ],
   "source": [
    "arr1 = [1,2,3,4,5]\n",
    "arr2 = [1,2,5,7,9]\n",
    "arr3 = [1,3,4,5,8]\n",
    "findArry(arr1,arr2,arr3)"
   ]
  },
  {
   "cell_type": "code",
   "execution_count": null,
   "metadata": {},
   "outputs": [],
   "source": [
    "<aside>\n",
    "💡 **Question 2**\n",
    "\n",
    "Given two **0-indexed** integer arrays nums1 and nums2, return *a list* answer *of size* 2 *where:*\n",
    "\n",
    "- answer[0] *is a list of all **distinct** integers in* nums1 *which are **not** present in* nums2*.*\n",
    "- answer[1] *is a list of all **distinct** integers in* nums2 *which are **not** present in* nums1.\n",
    "\n",
    "**Note** that the integers in the lists may be returned in **any** order.\n",
    "\n",
    "**Example 1:**\n",
    "\n",
    "**Input:** nums1 = [1,2,3], nums2 = [2,4,6]\n",
    "\n",
    "**Output:** [[1,3],[4,6]]\n",
    "\n",
    "**Explanation:**\n",
    "\n",
    "For nums1, nums1[1] = 2 is present at index 0 of nums2, whereas nums1[0] = 1 and nums1[2] = 3 are not present in nums2. Therefore, answer[0] = [1,3].\n",
    "\n",
    "For nums2, nums2[0] = 2 is present at index 1 of nums1, whereas nums2[1] = 4 and nums2[2] = 6 are not present in nums2. Therefore, answer[1] = [4,6].\n",
    "\n",
    "</aside>"
   ]
  },
  {
   "cell_type": "code",
   "execution_count": 36,
   "metadata": {},
   "outputs": [],
   "source": [
    "from typing import List\n",
    "class Find:\n",
    "    def findDifference(self, nums1: List[int], nums2: List[int]) -> List[List[int]]:\n",
    "        set1, set2 = set(nums1), set(nums2)\n",
    "        return [set1 - set2, set2 - set1] "
   ]
  },
  {
   "cell_type": "code",
   "execution_count": 38,
   "metadata": {},
   "outputs": [
    {
     "name": "stdout",
     "output_type": "stream",
     "text": [
      "[{1, 3}, {4, 6}]\n"
     ]
    }
   ],
   "source": [
    "nums1=[1,2,3]\n",
    "nums2=[2,4,6]\n",
    "f=Find()\n",
    "print(f.findDifference(nums1,nums2))\n"
   ]
  },
  {
   "cell_type": "code",
   "execution_count": null,
   "metadata": {},
   "outputs": [],
   "source": [
    "\n",
    "💡 **Question 3**\n",
    "Given a 2D integer array matrix, return *the **transpose** of* matrix.\n",
    "\n",
    "The **transpose** of a matrix is the matrix flipped over its main diagonal, switching the matrix's row and column indices.\n",
    "\n",
    "**Example 1:**\n",
    "\n",
    "Input: matrix = [[1,2,3],[4,5,6],[7,8,9]]\n",
    "\n",
    "Output: [[1,4,7],[2,5,8],[3,6,9]]\n",
    "\n"
   ]
  },
  {
   "cell_type": "code",
   "execution_count": 59,
   "metadata": {},
   "outputs": [],
   "source": [
    "from typing import List\n",
    "\n",
    "def transMatrix(matrix: List[List[int]]) -> List[List[int]]:\n",
    "    return list(zip(*matrix))\n",
    "\n"
   ]
  },
  {
   "cell_type": "code",
   "execution_count": 61,
   "metadata": {},
   "outputs": [
    {
     "name": "stdout",
     "output_type": "stream",
     "text": [
      "[(1, 3, 6), (2, 4, 7), (3, 5, 8)]\n"
     ]
    }
   ],
   "source": [
    "matrix = [[1, 2, 3],\n",
    "          [3, 4, 5],\n",
    "          [6, 7, 8]\n",
    "        ]\n",
    "transposed_matrix = transMatrix(matrix)\n",
    "print(transposed_matrix)\n"
   ]
  },
  {
   "cell_type": "code",
   "execution_count": 64,
   "metadata": {},
   "outputs": [],
   "source": [
    "def transMatrix(matrix):\n",
    "    rows=len(matrix)\n",
    "    cols=len(matrix[0])\n",
    "    transposed=[[0 for i in range(rows)] for j in range(cols)]\n",
    "\n",
    "    for i in range(rows):\n",
    "        for j in range(cols):\n",
    "            \n",
    "            transposed[j][i] = matrix[i][j]\n",
    "            return transposed\n",
    "\n",
    "\n",
    "\n"
   ]
  },
  {
   "cell_type": "code",
   "execution_count": 67,
   "metadata": {},
   "outputs": [
    {
     "name": "stdout",
     "output_type": "stream",
     "text": [
      "[[1, 0, 0], [0, 0, 0], [0, 0, 0]]\n"
     ]
    }
   ],
   "source": [
    "matrix = [\n",
    "    [1, 2, 3],\n",
    "    [4, 5, 6],\n",
    "    [6, 7, 8]\n",
    "]\n",
    "transposed_matrix = transMatrix(matrix)\n",
    "print(transposed_matrix)"
   ]
  },
  {
   "cell_type": "code",
   "execution_count": null,
   "metadata": {},
   "outputs": [],
   "source": [
    "\n",
    "💡 **Question 4**\n",
    "Given an integer array nums of 2n integers, group these integers into n pairs \n",
    "(a1, b1), (a2, b2), ..., (an, bn) such that the sum of min(ai, bi) for all i is **maximized**.\n",
    " Return *the maximized sum*.\n",
    "\n",
    "**Example 1:**\n",
    "\n",
    "Input: nums = [1,4,3,2]\n",
    "\n",
    "Output: 4\n",
    "\n",
    "**Explanation:** All possible pairings (ignoring the ordering of elements) are:\n",
    "\n",
    "1. (1, 4), (2, 3) -> min(1, 4) + min(2, 3) = 1 + 2 = 3\n",
    "\n",
    "2. (1, 3), (2, 4) -> min(1, 3) + min(2, 4) = 1 + 2 = 3\n",
    "\n",
    "3. (1, 2), (3, 4) -> min(1, 2) + min(3, 4) = 1 + 3 = 4\n",
    "\n",
    "So the maximum possible sum is 4.\n",
    "\n"
   ]
  },
  {
   "cell_type": "code",
   "execution_count": 69,
   "metadata": {},
   "outputs": [],
   "source": [
    "def ArraySum(nums):\n",
    "    max_sum=0\n",
    "    nums.sort()\n",
    "    #We iterate over the sorted array nums with a step size of 2, starting from index 0.\n",
    "    for i in range(0,len(nums),2):\n",
    "        max_sum += nums[i]\n",
    "    return max_sum\n"
   ]
  },
  {
   "cell_type": "code",
   "execution_count": 71,
   "metadata": {},
   "outputs": [
    {
     "name": "stdout",
     "output_type": "stream",
     "text": [
      "4\n"
     ]
    }
   ],
   "source": [
    "nums=[1,4,3,2]\n",
    "result=ArraySum(nums)\n",
    "print(result)"
   ]
  },
  {
   "cell_type": "code",
   "execution_count": 1,
   "metadata": {},
   "outputs": [
    {
     "ename": "SyntaxError",
     "evalue": "invalid character '💡' (U+1F4A1) (2664274729.py, line 1)",
     "output_type": "error",
     "traceback": [
      "\u001b[1;36m  File \u001b[1;32m\"C:\\Users\\PAVAN D\\AppData\\Local\\Temp\\ipykernel_23704\\2664274729.py\"\u001b[1;36m, line \u001b[1;32m1\u001b[0m\n\u001b[1;33m    💡 **Question 5**\u001b[0m\n\u001b[1;37m    ^\u001b[0m\n\u001b[1;31mSyntaxError\u001b[0m\u001b[1;31m:\u001b[0m invalid character '💡' (U+1F4A1)\n"
     ]
    }
   ],
   "source": [
    "\n",
    "💡 **Question 5**\n",
    "You have n coins and you want to build a staircase with these coins. The staircase consists of k rows \n",
    "where the ith row has exactly i coins. The last row of the staircase **may be** incomplete.\n",
    "\n",
    "Given the integer n, return *the number of **complete rows** of the staircase you will build*.\n",
    "\n",
    "\n",
    "**Example 1:**\n",
    "\n",
    "[]()\n",
    "\n",
    "![v2.jpg](https://s3-us-west-2.amazonaws.com/secure.notion-static.com/4bd91cfa-d2b1-47b3-8197-a72e8dcfff4b/v2.jpg)\n",
    "\n",
    "**Input:** n = 5\n",
    "\n",
    "**Output:** 2\n",
    "\n",
    "**Explanation:** Because the 3rd row is incomplete, we return 2.\n",
    "\n"
   ]
  },
  {
   "cell_type": "code",
   "execution_count": null,
   "metadata": {},
   "outputs": [],
   "source": [
    "def buildStaircase(n:int) -> int:\n",
    "    left,right=1,n\n",
    "\n",
    "    while(left<=right):\n",
    "        mid=(left+right)/2\n",
    "        total_coins=mid * (mid +1)//2\n",
    "        \n"
   ]
  },
  {
   "cell_type": "code",
   "execution_count": null,
   "metadata": {},
   "outputs": [],
   "source": [
    "\n",
    "💡 **Question 6**\n",
    " nums sorted in **non-decreGiven an integer arrayasing** order, return *an array of \n",
    " **the squares of each number** sorted in non-decreasing order*.\n",
    "\n",
    "**Example 1:**\n",
    "\n",
    "Input: nums = [-4,-1,0,3,10]\n",
    "\n",
    "Output: [0,1,9,16,100]\n",
    "\n",
    "**Explanation:** After squaring, the array becomes [16,1,0,9,100].\n",
    "After sorting, it becomes [0,1,9,16,100]\n",
    "\n"
   ]
  },
  {
   "cell_type": "code",
   "execution_count": 32,
   "metadata": {},
   "outputs": [],
   "source": [
    "#Takes input number of elements\n",
    "def squareArray(nums):\n",
    "    #iterating each element in the nums and caliculating its square \n",
    "    squarednumbers=[i**2 for i in nums]\n",
    "    #squared numbers get sorted\n",
    "    squarednumbers.sort()\n",
    "    #returns the sorted square numbers\n",
    "    return squarednumbers"
   ]
  },
  {
   "cell_type": "code",
   "execution_count": 33,
   "metadata": {},
   "outputs": [
    {
     "name": "stdout",
     "output_type": "stream",
     "text": [
      "[0, 1, 9, 16, 100]\n"
     ]
    }
   ],
   "source": [
    "nums = [-4,-1,0,3,10]\n",
    "result=squareArray(nums)\n",
    "print(result)"
   ]
  },
  {
   "cell_type": "code",
   "execution_count": null,
   "metadata": {},
   "outputs": [],
   "source": [
    "<aside>\n",
    "💡 **Question 7**\n",
    "You are given an m x n matrix M initialized with all 0's and an array of operations ops, \n",
    "where ops[i] = [ai, bi] means M[x][y] should be incremented by one for all 0 <= x < ai and 0 <= y < bi.\n",
    "\n",
    "Count and return *the number of maximum integers in the matrix after performing all the operations*\n",
    "\n",
    "**Example 1:**\n",
    "\n",
    "![q4.jpg](https://s3-us-west-2.amazonaws.com/secure.notion-static.com/4d0890d0-7bc7-4f59-be8e-352d9f3c1c52/q4.jpg)\n",
    "\n",
    "**Input:** m = 3, n = 3, ops = [[2,2],[3,3]]\n",
    "\n",
    "**Output:** 4\n",
    "\n",
    "**Explanation:** The maximum integer in M is 2, and there are four of it in M. So return 4.\n",
    "\n",
    "</aside>"
   ]
  },
  {
   "cell_type": "code",
   "execution_count": 30,
   "metadata": {},
   "outputs": [],
   "source": [
    "#importing list  from typing\n",
    "from typing import List\n",
    "#passing arguments  max integer m*n matrix as list\n",
    "def maxCount(m: int, n: int, ops: List[List[int]]) -> int:\n",
    "    #m,n are minimum dimensions assigned in the matrix\n",
    "    min_a = m\n",
    "    min_b = n\n",
    "\n",
    "    for op in ops:\n",
    "        ai, bi = op[0], op[1]\n",
    "        #min function updates the values of the matrixeach time\n",
    "        min_a = min(min_a, ai)\n",
    "        min_b = min(min_b, bi)\n",
    " #it returns maximum count of maximum integers in the matrix\n",
    "    return min_a * min_b\n"
   ]
  },
  {
   "cell_type": "code",
   "execution_count": 31,
   "metadata": {},
   "outputs": [
    {
     "name": "stdout",
     "output_type": "stream",
     "text": [
      "4\n"
     ]
    }
   ],
   "source": [
    "ops = [[2,2],[3,3]]\n",
    "m=2\n",
    "n=3\n",
    "result=maxCount(m,n,ops)\n",
    "print(result)"
   ]
  },
  {
   "cell_type": "code",
   "execution_count": null,
   "metadata": {},
   "outputs": [],
   "source": [
    "\n",
    "💡 **Question 8**\n",
    "\n",
    "Given the array nums consisting of 2n elements in the form [x1,x2,...,xn,y1,y2,...,yn].\n",
    "\n",
    "*Return the array in the form* [x1,y1,x2,y2,...,xn,yn].\n",
    "\n",
    "**Example 1:**\n",
    "\n",
    "**Input:** nums = [2,5,1,3,4,7], n = 3\n",
    "\n",
    "**Output:** [2,3,5,4,1,7]\n",
    "\n",
    "**Explanation:** Since x1=2, x2=5, x3=1, y1=3, y2=4, y3=7 then the answer is [2,3,5,4,1,7].\n",
    "\n"
   ]
  },
  {
   "cell_type": "code",
   "execution_count": 2,
   "metadata": {},
   "outputs": [],
   "source": [
    "from typing import List\n",
    "def rearrangeArry(nums:list[int])->list[int]:\n",
    "    # finding the middle element\n",
    "    n = len(nums) // 2\n",
    "    #doing slicing of the array after getting middle number\n",
    "    nums1=nums[:n]\n",
    "    nums2=nums[n:]\n",
    "    result=[]\n",
    "    #looping through the numbers in an array\n",
    "    for i in range(n):\n",
    "        #appending the each subarray to the result\n",
    "        result.append(nums1[i])\n",
    "        result.append(nums2[i])\n",
    "    return result    \n"
   ]
  },
  {
   "cell_type": "code",
   "execution_count": 3,
   "metadata": {},
   "outputs": [
    {
     "name": "stdout",
     "output_type": "stream",
     "text": [
      "[1, 4, 2, 5, 3, 6]\n"
     ]
    }
   ],
   "source": [
    "nums=[1,2,3,4,5,6]\n",
    "result=rearrangeArry(nums)\n",
    "print(result)"
   ]
  }
 ],
 "metadata": {
  "kernelspec": {
   "display_name": "base",
   "language": "python",
   "name": "python3"
  },
  "language_info": {
   "codemirror_mode": {
    "name": "ipython",
    "version": 3
   },
   "file_extension": ".py",
   "mimetype": "text/x-python",
   "name": "python",
   "nbconvert_exporter": "python",
   "pygments_lexer": "ipython3",
   "version": "3.9.13"
  },
  "orig_nbformat": 4
 },
 "nbformat": 4,
 "nbformat_minor": 2
}
