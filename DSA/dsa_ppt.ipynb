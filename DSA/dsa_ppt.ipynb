{
 "cells": [
  {
   "cell_type": "code",
   "execution_count": 5,
   "metadata": {},
   "outputs": [
    {
     "name": "stdout",
     "output_type": "stream",
     "text": [
      "[10, 2, 3, 1, 0, 0]\n"
     ]
    }
   ],
   "source": [
    "#array non zero numbers moving to end\n",
    "#Move ZeroesGiven an integer array nums, move all 0's to the end of it while maintaining the relative order of the non-zero elements.\n",
    "\n",
    "def moving_zero(nums):\n",
    "    lastnon_zero=0\n",
    "    for i  in range(len(nums)):\n",
    "        if nums[i]!=0:\n",
    "            nums[lastnon_zero],nums[i]=nums[i],nums[lastnon_zero]\n",
    "            lastnon_zero +=1\n",
    "    return nums \n",
    "nums=[0,10,2,0,3,1]    \n",
    "print(moving_zero(nums))         \n"
   ]
  },
  {
   "cell_type": "code",
   "execution_count": 13,
   "metadata": {},
   "outputs": [
    {
     "name": "stdout",
     "output_type": "stream",
     "text": [
      "-1\n"
     ]
    }
   ],
   "source": [
    "#first unique number First Unique Character in a String\n",
    "#Given a string s, find the first non-repeating character in it and return its index. If it does not exist, return -1.\n",
    "def unique_character(str):\n",
    "    char_count={}\n",
    "    left=0\n",
    "    #iterate through the string to check the charcter index\n",
    "    for right in range(len(str)):\n",
    "        char=str[right]\n",
    "        if char in char_count:\n",
    "            char_count[char]=-1\n",
    "        else:\n",
    "            char_count[char]=right\n",
    "#using left pointer checkingthe repeated character\n",
    "    while left < len(str):\n",
    "        char=str[left]\n",
    "        #checking repeated character is there or not if itis return that character\n",
    "        if  char_count[char]!= -1:\n",
    "            return char_count[char]\n",
    "        left += 1\n",
    "        #no non repeating character returning to -1\n",
    "    return -1  \n",
    "\n",
    "\n",
    "\n",
    "str=\"aabb\"\n",
    "res=unique_character(str)\n",
    "print(res)       \n",
    "                             \n",
    "\n"
   ]
  },
  {
   "cell_type": "code",
   "execution_count": null,
   "metadata": {},
   "outputs": [],
   "source": []
  },
  {
   "attachments": {},
   "cell_type": "markdown",
   "metadata": {},
   "source": []
  },
  {
   "cell_type": "code",
   "execution_count": null,
   "metadata": {},
   "outputs": [],
   "source": []
  }
 ],
 "metadata": {
  "kernelspec": {
   "display_name": "base",
   "language": "python",
   "name": "python3"
  },
  "language_info": {
   "codemirror_mode": {
    "name": "ipython",
    "version": 3
   },
   "file_extension": ".py",
   "mimetype": "text/x-python",
   "name": "python",
   "nbconvert_exporter": "python",
   "pygments_lexer": "ipython3",
   "version": "3.9.13"
  },
  "orig_nbformat": 4
 },
 "nbformat": 4,
 "nbformat_minor": 2
}
