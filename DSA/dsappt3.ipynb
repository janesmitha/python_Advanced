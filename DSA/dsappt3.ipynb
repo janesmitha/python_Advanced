{
 "cells": [
  {
   "cell_type": "markdown",
   "id": "01fadc62",
   "metadata": {},
   "source": [
    "Implement a stack using a list in Python. Include the necessary methods such as push, pop, and isEmpty"
   ]
  },
  {
   "cell_type": "code",
   "execution_count": 4,
   "id": "b3544579",
   "metadata": {},
   "outputs": [],
   "source": [
    "class Stack:\n",
    "    def __init__(self):\n",
    "        self.stack = []\n",
    "\n",
    "    def push(self, item):\n",
    "        self.stack.append(item)\n",
    "\n",
    "    def pop(self):\n",
    "        if self.isEmpty():\n",
    "            return None\n",
    "        return self.stack.pop()\n",
    "\n",
    "    def isEmpty(self):\n",
    "        return len(self.stack) == 0\n"
   ]
  },
  {
   "cell_type": "code",
   "execution_count": 5,
   "id": "c124aa3d",
   "metadata": {},
   "outputs": [
    {
     "name": "stdout",
     "output_type": "stream",
     "text": [
      "30\n",
      "20\n",
      "False\n",
      "10\n",
      "True\n",
      "None\n"
     ]
    }
   ],
   "source": [
    "stack = Stack()\n",
    "stack.push(10)\n",
    "stack.push(20)\n",
    "stack.push(30)\n",
    "\n",
    "print(stack.pop())  # Output: 30\n",
    "print(stack.pop())  # Output: 20\n",
    "print(stack.isEmpty())  # Output: False\n",
    "print(stack.pop())  # Output: 10\n",
    "print(stack.isEmpty())  # Output: True\n",
    "print(stack.pop())  # Output: None\n"
   ]
  },
  {
   "cell_type": "code",
   "execution_count": null,
   "id": "c49ceccd",
   "metadata": {},
   "outputs": [],
   "source": [
    "Implement a queue using a list in Python. Include the necessary methods such as enqueue, dequeue, and isEmpty."
   ]
  },
  {
   "cell_type": "code",
   "execution_count": 2,
   "id": "8a009b8e",
   "metadata": {},
   "outputs": [],
   "source": [
    "class Queue:\n",
    "    def __init__(self):\n",
    "        self.queue = []\n",
    "\n",
    "    def enqueue(self, item):\n",
    "        self.queue.append(item)\n",
    "\n",
    "    def dequeue(self):\n",
    "        if self.isEmpty():\n",
    "            return None\n",
    "        return self.queue.pop(0)\n",
    "\n",
    "    def isEmpty(self):\n",
    "        return len(self.queue) == 0"
   ]
  },
  {
   "cell_type": "code",
   "execution_count": 3,
   "id": "c555e7d0",
   "metadata": {},
   "outputs": [
    {
     "name": "stdout",
     "output_type": "stream",
     "text": [
      "10\n",
      "20\n",
      "False\n",
      "30\n",
      "True\n",
      "None\n"
     ]
    }
   ],
   "source": [
    "queue = Queue()\n",
    "queue.enqueue(10)\n",
    "queue.enqueue(20)\n",
    "queue.enqueue(30)\n",
    "\n",
    "print(queue.dequeue())  # Output: 10\n",
    "print(queue.dequeue())  # Output: 20\n",
    "print(queue.isEmpty())  # Output: False\n",
    "print(queue.dequeue())  # Output: 30\n",
    "print(queue.isEmpty())  # Output: True\n",
    "print(queue.dequeue())  # Output: None\n"
   ]
  },
  {
   "cell_type": "code",
   "execution_count": null,
   "id": "edba6e47",
   "metadata": {},
   "outputs": [],
   "source": []
  }
 ],
 "metadata": {
  "kernelspec": {
   "display_name": "Python 3 (ipykernel)",
   "language": "python",
   "name": "python3"
  },
  "language_info": {
   "codemirror_mode": {
    "name": "ipython",
    "version": 3
   },
   "file_extension": ".py",
   "mimetype": "text/x-python",
   "name": "python",
   "nbconvert_exporter": "python",
   "pygments_lexer": "ipython3",
   "version": "3.9.13"
  }
 },
 "nbformat": 4,
 "nbformat_minor": 5
}
