{
 "cells": [
  {
   "cell_type": "markdown",
   "id": "6c23804a",
   "metadata": {},
   "source": [
    "\n",
    "1. Write a Python program to reverse a string without using any built-in string reversal functions.\n"
   ]
  },
  {
   "cell_type": "code",
   "execution_count": 4,
   "id": "44a895bf",
   "metadata": {},
   "outputs": [],
   "source": [
    "def revString(string):\n",
    "    reversed_string=\" \"\n",
    "    for char in string:\n",
    "        reversed_string=char+reversed_string\n",
    "    return reversed_string"
   ]
  },
  {
   "cell_type": "code",
   "execution_count": 6,
   "id": "3dbe15f7",
   "metadata": {},
   "outputs": [
    {
     "name": "stdout",
     "output_type": "stream",
     "text": [
      "Enter a string: my name is smitha\n",
      "ahtims si eman ym\n"
     ]
    }
   ],
   "source": [
    "inputstring = input(\"Enter a string: \")\n",
    "reversed_string=revString(inputstring)\n",
    "print(reversed_string)"
   ]
  },
  {
   "cell_type": "markdown",
   "id": "0d5ab3b1",
   "metadata": {},
   "source": [
    "2. Implement a function to check if a given string is a palindrome."
   ]
  },
  {
   "cell_type": "code",
   "execution_count": 12,
   "id": "a69fa6e2",
   "metadata": {},
   "outputs": [
    {
     "name": "stdout",
     "output_type": "stream",
     "text": [
      "Enter a string: 121\n",
      "The string is a palindrome.\n"
     ]
    }
   ],
   "source": [
    "def is_palindrome(string):\n",
    "    # Convert the string to lowercase and remove non-alphanumeric characters\n",
    "    palindromstring = ''.join(char.lower() for char in string if char.isalnum())\n",
    "    \n",
    "    # Check if the palindromstring is equal to its reverse\n",
    "    return  palindromstring ==  palindromstring[::-1]\n",
    "\n",
    "# Testing the function\n",
    "palindromstring = input(\"Enter a string: \")\n",
    "if is_palindrome(palindromstring):\n",
    "    print(\"The string is a palindrome.\")\n",
    "else:\n",
    "    print(\"The string is not a palindrome.\")\n"
   ]
  },
  {
   "cell_type": "markdown",
   "id": "f701ec42",
   "metadata": {},
   "source": [
    "3. Write a program to find the largest element in a given list."
   ]
  },
  {
   "cell_type": "code",
   "execution_count": 23,
   "id": "bdf64f98",
   "metadata": {},
   "outputs": [],
   "source": [
    "def islargest(lst):\n",
    "    if not lst:\n",
    "        return None\n",
    "    largest = lst[0]\n",
    "    \n",
    "    for num in lst:\n",
    "        if num > largest:\n",
    "            largest = num\n",
    "    return largest        "
   ]
  },
  {
   "cell_type": "code",
   "execution_count": 27,
   "id": "b5b9d17a",
   "metadata": {},
   "outputs": [
    {
     "name": "stdout",
     "output_type": "stream",
     "text": [
      "enter list2 3 4 5\n",
      "largest element: 5\n"
     ]
    }
   ],
   "source": [
    "inputlist=input(\"enter list\").split()\n",
    "\n",
    "l=islargest(inputlist)\n",
    "print(\"largest element:\",l)\n"
   ]
  },
  {
   "cell_type": "markdown",
   "id": "92c06540",
   "metadata": {},
   "source": [
    "4. Implement a function to count the occurrence of each element in a list.\n"
   ]
  },
  {
   "cell_type": "code",
   "execution_count": 29,
   "id": "969e896c",
   "metadata": {},
   "outputs": [],
   "source": [
    "def count_occurence(lst):\n",
    "    count={}\n",
    "    for element in lst:\n",
    "        if element in count:\n",
    "            count[element] += 1\n",
    "        else:\n",
    "            count[element]=1\n",
    "    return count        \n",
    "    "
   ]
  },
  {
   "cell_type": "code",
   "execution_count": 31,
   "id": "5375ea94",
   "metadata": {},
   "outputs": [
    {
     "name": "stdout",
     "output_type": "stream",
     "text": [
      "enter the list:23 34 12 22\n",
      "countoccurence: {'23': 1, '34': 1, '12': 1, '22': 1}\n"
     ]
    }
   ],
   "source": [
    "inputlist=input(\"enter the list:\").split()\n",
    "l=count_occurence(inputlist)\n",
    "print(\"countoccurence:\",l)"
   ]
  },
  {
   "cell_type": "markdown",
   "id": "08c86a70",
   "metadata": {},
   "source": [
    "5. Write a Python program to find the second largest number in a list."
   ]
  },
  {
   "cell_type": "code",
   "execution_count": 32,
   "id": "7fa02450",
   "metadata": {},
   "outputs": [],
   "source": [
    "def second_largest(lst):\n",
    "    if len(lst)<2:\n",
    "        return None\n",
    "    sorted_list=sorted(lst,reverse=True)\n",
    "    return sorted_list[1]"
   ]
  },
  {
   "cell_type": "code",
   "execution_count": 34,
   "id": "236a7b40",
   "metadata": {},
   "outputs": [
    {
     "name": "stdout",
     "output_type": "stream",
     "text": [
      "enter list:2 3\n",
      "secondlargest: 2\n"
     ]
    }
   ],
   "source": [
    "li=input(\"enter list:\").split()\n",
    "l=second_largest(li)\n",
    "print(\"secondlargest:\",l)"
   ]
  },
  {
   "cell_type": "markdown",
   "id": "e9e267be",
   "metadata": {},
   "source": [
    "6. Implement a function to remove duplicate elements from a list."
   ]
  },
  {
   "cell_type": "code",
   "execution_count": 49,
   "id": "47b4288d",
   "metadata": {},
   "outputs": [],
   "source": [
    "def remove_duplicates(lst):\n",
    "    unique_lst=[]\n",
    "    newlist=set()\n",
    "    for element in lst:\n",
    "        if element not in newlist:\n",
    "            unique_lst.append(element)\n",
    "            newlist.add(element)\n",
    "    return newlist        \n",
    "    "
   ]
  },
  {
   "cell_type": "code",
   "execution_count": 50,
   "id": "b06a2af7",
   "metadata": {},
   "outputs": [
    {
     "name": "stdout",
     "output_type": "stream",
     "text": [
      "enter list:2 3 4 2 5 6\n",
      "remove duplicates: {'4', '3', '5', '2', '6'}\n"
     ]
    }
   ],
   "source": [
    "lis=input(\"enter list:\").split()\n",
    "l=remove_duplicates(lis)\n",
    "print(\"remove duplicates:\",l)"
   ]
  },
  {
   "cell_type": "markdown",
   "id": "ca4ee3e5",
   "metadata": {},
   "source": [
    "7. Write a program to calculate the factorial of a given number."
   ]
  },
  {
   "cell_type": "code",
   "execution_count": 51,
   "id": "51874a6a",
   "metadata": {},
   "outputs": [],
   "source": [
    "def factorial(n):\n",
    "    if n < 0:\n",
    "        return None\n",
    "    elif n == 0:\n",
    "        return 1\n",
    "    else:\n",
    "        result=1\n",
    "        for i in range(1,n+1):\n",
    "            result *= 1\n",
    "        return result    \n",
    "    "
   ]
  },
  {
   "cell_type": "code",
   "execution_count": 52,
   "id": "321de16b",
   "metadata": {},
   "outputs": [
    {
     "name": "stdout",
     "output_type": "stream",
     "text": [
      "Factorial of 5 is: 1\n"
     ]
    }
   ],
   "source": [
    "number = 5\n",
    "fact = factorial(number)\n",
    "print(\"Factorial of\", number, \"is:\", fact)"
   ]
  },
  {
   "cell_type": "markdown",
   "id": "34bc5bb0",
   "metadata": {},
   "source": [
    "8. Implement a function to check if a given number is prime."
   ]
  },
  {
   "cell_type": "code",
   "execution_count": 62,
   "id": "2704ce66",
   "metadata": {},
   "outputs": [],
   "source": [
    "def is_prime(number):\n",
    "    if number <= 1:\n",
    "        return False\n",
    "    for i in range(2, int(number ** 0.5) + 1):\n",
    "        if number % i == 0:\n",
    "            return False\n",
    "    return True\n"
   ]
  },
  {
   "cell_type": "code",
   "execution_count": 63,
   "id": "666f60e9",
   "metadata": {},
   "outputs": [
    {
     "name": "stdout",
     "output_type": "stream",
     "text": [
      "17 is a prime number.\n"
     ]
    }
   ],
   "source": [
    "number = 17\n",
    "is_prime_number = is_prime(number)\n",
    "if is_prime_number:\n",
    "    print(number, \"is a prime number.\")\n",
    "else:\n",
    "    print(number, \"is not a prime number.\")\n"
   ]
  },
  {
   "cell_type": "markdown",
   "id": "bcdb2087",
   "metadata": {},
   "source": [
    "9. Write a Python program to sort a list of integers in ascending order."
   ]
  },
  {
   "cell_type": "code",
   "execution_count": 77,
   "id": "09fa0f98",
   "metadata": {},
   "outputs": [],
   "source": [
    "def sortedlist(lst):\n",
    "    sorted_list=sorted(lst)\n",
    "    return sorted_list"
   ]
  },
  {
   "cell_type": "code",
   "execution_count": 78,
   "id": "c0a65784",
   "metadata": {},
   "outputs": [
    {
     "name": "stdout",
     "output_type": "stream",
     "text": [
      "Sorted list: [1, 2, 3, 5, 7, 8]\n"
     ]
    }
   ],
   "source": [
    "my_list = [5, 2, 8, 3, 1, 7]\n",
    "sorted_list = sortedlist(my_list)\n",
    "print(\"Sorted list:\", sorted_list)\n"
   ]
  },
  {
   "cell_type": "markdown",
   "id": "9d0990e2",
   "metadata": {},
   "source": [
    "10. Implement a function to find the sum of all numbers in a list."
   ]
  },
  {
   "cell_type": "code",
   "execution_count": 89,
   "id": "a4f67f49",
   "metadata": {},
   "outputs": [],
   "source": [
    "def caliculated_sum(li):\n",
    "    total = 0\n",
    "    for num in li:\n",
    "        total += num\n",
    "    return total    "
   ]
  },
  {
   "cell_type": "code",
   "execution_count": 90,
   "id": "257c87e9",
   "metadata": {},
   "outputs": [
    {
     "name": "stdout",
     "output_type": "stream",
     "text": [
      "Sum of numbers: 15\n"
     ]
    }
   ],
   "source": [
    "my_list = [1, 2, 3, 4, 5]\n",
    "sum_of_numbers = caliculated_sum(my_list)\n",
    "print(\"Sum of numbers:\", sum_of_numbers)\n"
   ]
  },
  {
   "cell_type": "markdown",
   "id": "8ae9d238",
   "metadata": {},
   "source": [
    "11. Write a program to find the common elements between two lists."
   ]
  },
  {
   "cell_type": "code",
   "execution_count": 96,
   "id": "7a055e48",
   "metadata": {},
   "outputs": [],
   "source": [
    "def find_common_elements(list1, list2):\n",
    "    common_elements = []\n",
    "    for element in list1:\n",
    "        if element in list2:\n",
    "            common_elements.append(element)\n",
    "    return common_elements\n"
   ]
  },
  {
   "cell_type": "code",
   "execution_count": 97,
   "id": "c8c4662b",
   "metadata": {},
   "outputs": [
    {
     "name": "stdout",
     "output_type": "stream",
     "text": [
      "Common elements: [4, 5]\n"
     ]
    }
   ],
   "source": [
    "list1 = [1, 2, 3, 4, 5]\n",
    "list2 = [4, 5, 6, 7, 8]\n",
    "common_elements = find_common_elements(list1, list2)\n",
    "print(\"Common elements:\", common_elements)\n"
   ]
  },
  {
   "cell_type": "markdown",
   "id": "67bbefa8",
   "metadata": {},
   "source": [
    "12. Implement a function to check if a given string is an anagram of another string."
   ]
  },
  {
   "cell_type": "code",
   "execution_count": 103,
   "id": "518bfdeb",
   "metadata": {},
   "outputs": [],
   "source": [
    "def strAnagram(str1,str2):\n",
    "    str1=str1.lower().replace(\" \",\"\")\n",
    "    str2=str2.lower().replace(\" \",\"\")\n",
    "    \n",
    "    if len(str1) != len(str2):\n",
    "        return False\n",
    "    \n",
    "    freq1={}\n",
    "    freq2={}\n",
    "    \n",
    "    for char in str1:\n",
    "        freq1[char] = freq1.get(char, 0) + 1\n",
    "    for char in str2:\n",
    "        freq2[char] = freq2.get(char, 0) + 1\n",
    "    return freq1 == freq2    \n",
    "        \n",
    "    \n",
    "    "
   ]
  },
  {
   "cell_type": "code",
   "execution_count": 105,
   "id": "5bd0ae5f",
   "metadata": {},
   "outputs": [
    {
     "name": "stdout",
     "output_type": "stream",
     "text": [
      "The strings are not anagrams.\n"
     ]
    }
   ],
   "source": [
    "string1 = \"sklearn\"\n",
    "string2 = \"sniik\"\n",
    "is_anagram = strAnagram(string1, string2)\n",
    "if is_anagram:\n",
    "    print(\"The strings are anagrams.\")\n",
    "else:\n",
    "    print(\"The strings are not anagrams.\")\n"
   ]
  },
  {
   "cell_type": "markdown",
   "id": "caf4ff78",
   "metadata": {},
   "source": [
    "13. Write a Python program to generate all permutations of a given string."
   ]
  },
  {
   "cell_type": "code",
   "execution_count": 112,
   "id": "3803e8a2",
   "metadata": {},
   "outputs": [],
   "source": [
    "def permutations(string):\n",
    "    # Base case: If the string has only one character, return it as the only permutation\n",
    "    if len(string) == 1:\n",
    "        return [string]\n",
    "\n",
    "    # Recursive step: Generate permutations by selecting each character as the first character,\n",
    "    # and recursively permuting the remaining characters\n",
    "    result = []\n",
    "    for i in range(len(string)):\n",
    "        first_char = string[i]\n",
    "        remaining_chars = string[:i] + string[i+1:]\n",
    "        remaining_permutations = permutations(remaining_chars)\n",
    "        for permutation in remaining_permutations:\n",
    "            result.append(first_char + permutation)\n",
    "\n",
    "    return result\n"
   ]
  },
  {
   "cell_type": "code",
   "execution_count": 113,
   "id": "582f02cd",
   "metadata": {},
   "outputs": [
    {
     "name": "stdout",
     "output_type": "stream",
     "text": [
      "Permutations: ['abc', 'acb', 'bac', 'bca', 'cab', 'cba']\n"
     ]
    }
   ],
   "source": [
    "string = \"abc\"\n",
    "permutation_list = permutations(string)\n",
    "print(\"Permutations:\", permutation_list)\n"
   ]
  },
  {
   "cell_type": "markdown",
   "id": "81683444",
   "metadata": {},
   "source": [
    "14. Implement a function to calculate the Fibonacci sequence up to a given number of terms."
   ]
  },
  {
   "cell_type": "code",
   "execution_count": 118,
   "id": "a734771f",
   "metadata": {},
   "outputs": [],
   "source": [
    "def fibonacci_sequence(n):\n",
    "    sequence = []\n",
    "    a, b = 0, 1\n",
    "    for i in range(n):\n",
    "        sequence.append(a)\n",
    "        a, b = b, a + b\n",
    "    return sequence\n"
   ]
  },
  {
   "cell_type": "code",
   "execution_count": 119,
   "id": "fd1840f1",
   "metadata": {},
   "outputs": [
    {
     "name": "stdout",
     "output_type": "stream",
     "text": [
      "Fibonacci Sequence (10 terms): [0, 1, 1, 2, 3, 5, 8, 13, 21, 34]\n"
     ]
    }
   ],
   "source": [
    "num_terms = 10\n",
    "fibonacci_seq = fibonacci_sequence(num_terms)\n",
    "print(\"Fibonacci Sequence ({} terms):\".format(num_terms), fibonacci_seq)\n"
   ]
  },
  {
   "cell_type": "markdown",
   "id": "17bdd33d",
   "metadata": {},
   "source": [
    "15. Write a program to find the median of a list of numbers."
   ]
  },
  {
   "cell_type": "code",
   "execution_count": 122,
   "id": "d0c6eced",
   "metadata": {},
   "outputs": [],
   "source": [
    "def find_median(numbers):\n",
    "    length = len(numbers)\n",
    "    numbers.sort()\n",
    "    \n",
    "    if length%2 == 0:\n",
    "        mid_length = length // 2\n",
    "        middle_left = middle_right - 1\n",
    "        median = (numbers[middle_left] + numbers[middle_right]) / 2\n",
    "    else:\n",
    "        # If the length is odd, take the middle number\n",
    "        middle = length // 2\n",
    "        median = numbers[middle]\n",
    "\n",
    "    return median    \n",
    "        \n",
    "        \n",
    "    "
   ]
  },
  {
   "cell_type": "code",
   "execution_count": 123,
   "id": "cb0193f8",
   "metadata": {},
   "outputs": [
    {
     "name": "stdout",
     "output_type": "stream",
     "text": [
      "Median: 5\n"
     ]
    }
   ],
   "source": [
    "number_list = [7, 2, 9, 4, 5, 1, 8, 6, 3]\n",
    "median = find_median(number_list)\n",
    "print(\"Median:\", median)\n"
   ]
  },
  {
   "cell_type": "markdown",
   "id": "5a16079e",
   "metadata": {},
   "source": [
    "16. Implement a function to check if a given list is sorted in non-decreasing order."
   ]
  },
  {
   "cell_type": "code",
   "execution_count": 124,
   "id": "edd5d155",
   "metadata": {},
   "outputs": [],
   "source": [
    "def is_sorted(lst):\n",
    "    for i in range(1, len(lst)):\n",
    "        if lst[i] < lst[i-1]:\n",
    "            return False\n",
    "    return True\n"
   ]
  },
  {
   "cell_type": "code",
   "execution_count": 125,
   "id": "7a479ac5",
   "metadata": {},
   "outputs": [
    {
     "name": "stdout",
     "output_type": "stream",
     "text": [
      "The list is sorted in non-decreasing order.\n"
     ]
    }
   ],
   "source": [
    "my_list = [1, 2, 3, 4, 5]\n",
    "is_sorted_result = is_sorted(my_list)\n",
    "if is_sorted_result:\n",
    "    print(\"The list is sorted in non-decreasing order.\")\n",
    "else:\n",
    "    print(\"The list is not sorted in non-decreasing order.\")\n"
   ]
  },
  {
   "cell_type": "markdown",
   "id": "ac84bcb0",
   "metadata": {},
   "source": [
    "17. Write a Python program to find the intersection of two lists"
   ]
  },
  {
   "cell_type": "code",
   "execution_count": 126,
   "id": "2fa32d6a",
   "metadata": {},
   "outputs": [],
   "source": [
    "def find_intersection(list1, list2):\n",
    "    intersection = list(set(list1) & set(list2))\n",
    "    return intersection\n"
   ]
  },
  {
   "cell_type": "code",
   "execution_count": 127,
   "id": "829f832a",
   "metadata": {},
   "outputs": [
    {
     "name": "stdout",
     "output_type": "stream",
     "text": [
      "Intersection: [4, 5]\n"
     ]
    }
   ],
   "source": [
    "list1 = [1, 2, 3, 4, 5]\n",
    "list2 = [4, 5, 6, 7, 8]\n",
    "intersection_list = find_intersection(list1, list2)\n",
    "print(\"Intersection:\", intersection_list)\n"
   ]
  },
  {
   "cell_type": "markdown",
   "id": "ee4a44af",
   "metadata": {},
   "source": [
    "18. Implement a function to find the maximum subarray sum in a given list."
   ]
  },
  {
   "cell_type": "code",
   "execution_count": 128,
   "id": "02f5091b",
   "metadata": {},
   "outputs": [],
   "source": [
    "def max_subarray_sum(lst):\n",
    "    if not lst:\n",
    "        return 0\n",
    "\n",
    "    max_sum = lst[0]\n",
    "    current_sum = lst[0]\n",
    "\n",
    "    for num in lst[1:]:\n",
    "        current_sum = max(num, current_sum + num)\n",
    "        max_sum = max(max_sum, current_sum)\n",
    "\n",
    "    return max_sum\n"
   ]
  },
  {
   "cell_type": "code",
   "execution_count": 129,
   "id": "be0cd766",
   "metadata": {},
   "outputs": [
    {
     "name": "stdout",
     "output_type": "stream",
     "text": [
      "Maximum subarray sum: 6\n"
     ]
    }
   ],
   "source": [
    "my_list = [-2, 1, -3, 4, -1, 2, 1, -5, 4]\n",
    "max_sum = max_subarray_sum(my_list)\n",
    "print(\"Maximum subarray sum:\", max_sum)\n"
   ]
  },
  {
   "cell_type": "markdown",
   "id": "438713a0",
   "metadata": {},
   "source": [
    "19. Write a program to remove all vowels from a given string."
   ]
  },
  {
   "cell_type": "code",
   "execution_count": 134,
   "id": "28b9b2ac",
   "metadata": {},
   "outputs": [],
   "source": [
    "def remove_vowels(string):\n",
    "    vowels = \"aeiouAEIOU\"\n",
    "    vowels_removed = \"\"\n",
    "    for char in string:\n",
    "        if char not in vowels:\n",
    "            vowels_removed += char\n",
    "    return vowels_removed\n"
   ]
  },
  {
   "cell_type": "code",
   "execution_count": 135,
   "id": "eb6b587f",
   "metadata": {},
   "outputs": [
    {
     "name": "stdout",
     "output_type": "stream",
     "text": [
      "String without vowels: Hll,Wrld!\n"
     ]
    }
   ],
   "source": [
    "input_string = \"Hello,World!\"\n",
    "string_without_vowels = remove_vowels(input_string)\n",
    "print(\"String without vowels:\", string_without_vowels)\n"
   ]
  },
  {
   "cell_type": "markdown",
   "id": "b828a628",
   "metadata": {},
   "source": [
    "20. Implement a function to reverse the order of words in a given sentence."
   ]
  },
  {
   "cell_type": "code",
   "execution_count": 152,
   "id": "0b52dcde",
   "metadata": {},
   "outputs": [],
   "source": [
    "def reverse_sentence(sentence):\n",
    "    words = sentence.split()\n",
    "    reversedwords = words[::-1]\n",
    "    reversed_sentence = \" \".join(reversedwords)\n",
    "    return reversed_sentence\n"
   ]
  },
  {
   "cell_type": "code",
   "execution_count": 154,
   "id": "8d991ca6",
   "metadata": {},
   "outputs": [
    {
     "name": "stdout",
     "output_type": "stream",
     "text": [
      "Reversed sentence: ineuron from Hello,Iam\n"
     ]
    }
   ],
   "source": [
    "input_sentence = \"Hello,Iam from ineuron\"\n",
    "reversed_sentence = reverse_sentence(input_sentence)\n",
    "print(\"Reversed sentence:\", reversed_sentence)\n"
   ]
  },
  {
   "cell_type": "markdown",
   "id": "bf6eb904",
   "metadata": {},
   "source": [
    "21. Write a Python program to check if two strings are anagrams of each other."
   ]
  },
  {
   "cell_type": "code",
   "execution_count": 155,
   "id": "80444306",
   "metadata": {},
   "outputs": [],
   "source": [
    "def isAnagram(str1,str2):\n",
    "    str1 = str1.lower().replace(\"\",\" \")\n",
    "    str2 = str2.lower().replace(\"\",\" \")\n",
    "    \n",
    "    if len(str1) != len(str2):\n",
    "        return False\n",
    "    \n",
    "    freq1={}\n",
    "    freq2={}\n",
    "    \n",
    "    for char in str1:\n",
    "        freq1[char] = freq1.get(char,0) + 1\n",
    "        freq2[char] = freq2.get(char,0) + 1\n",
    "    return freq1 == freq2    \n",
    "        "
   ]
  },
  {
   "cell_type": "code",
   "execution_count": 157,
   "id": "c02b81be",
   "metadata": {},
   "outputs": [
    {
     "name": "stdout",
     "output_type": "stream",
     "text": [
      "is anagram\n"
     ]
    }
   ],
   "source": [
    "str1=\"admirer\"\n",
    "str2=\"married\"\n",
    "isanagram_result=isAnagram(str1,str2)\n",
    "if isanagram_result:\n",
    "    print(\"is anagram\")\n",
    "else:\n",
    "    print(\"its not angram\")"
   ]
  },
  {
   "cell_type": "markdown",
   "id": "d3b04c03",
   "metadata": {},
   "source": [
    "22. Implement a function to find the first non-repeating character in a string."
   ]
  },
  {
   "cell_type": "code",
   "execution_count": 162,
   "id": "fa17829e",
   "metadata": {},
   "outputs": [],
   "source": [
    "def isnonRepeating(str):\n",
    "    new_count={}\n",
    "    for char in str:\n",
    "        new_count[char]=new_count.get(char,0) + 1\n",
    "    for char in str:\n",
    "        if new_count[char] == 1:\n",
    "            return char\n",
    "    return None    \n",
    "        "
   ]
  },
  {
   "cell_type": "code",
   "execution_count": 163,
   "id": "7ede513e",
   "metadata": {},
   "outputs": [
    {
     "name": "stdout",
     "output_type": "stream",
     "text": [
      "First non-repeating character: d\n"
     ]
    }
   ],
   "source": [
    "input_string = \"deeff\"\n",
    "isnonRepeating = isnonRepeating(input_string)\n",
    "if isnonRepeating:\n",
    "    print(\"First non-repeating character:\", isnonRepeating)\n",
    "else:\n",
    "    print(\"No non-repeating character found.\")\n"
   ]
  },
  {
   "cell_type": "markdown",
   "id": "e71a3e6a",
   "metadata": {},
   "source": [
    "23. Write a program to find the prime factors of a given number."
   ]
  },
  {
   "cell_type": "code",
   "execution_count": 164,
   "id": "dc652d7e",
   "metadata": {},
   "outputs": [],
   "source": [
    "def find_prime_factors(num):\n",
    "    factors = []\n",
    "    divisor = 2\n",
    "\n",
    "    while divisor <= num:\n",
    "        if num % divisor == 0:\n",
    "            factors.append(divisor)\n",
    "            num = num / divisor\n",
    "        else:\n",
    "            divisor += 1\n",
    "\n",
    "    return factors\n"
   ]
  },
  {
   "cell_type": "code",
   "execution_count": 165,
   "id": "8ec1378e",
   "metadata": {},
   "outputs": [
    {
     "name": "stdout",
     "output_type": "stream",
     "text": [
      "Prime factors of 84 : [2, 2, 3, 7]\n"
     ]
    }
   ],
   "source": [
    "number = 84\n",
    "prime_factors = find_prime_factors(number)\n",
    "print(\"Prime factors of\", number, \":\", prime_factors)\n"
   ]
  },
  {
   "cell_type": "markdown",
   "id": "c31ca199",
   "metadata": {},
   "source": [
    "24. Implement a function to check if a given number is a power of two."
   ]
  },
  {
   "cell_type": "code",
   "execution_count": 181,
   "id": "b921de1f",
   "metadata": {},
   "outputs": [],
   "source": [
    "def is_power_of_two(num):\n",
    "    if num <= 0:\n",
    "        return False\n",
    "    return num & (num - 1) == 0\n"
   ]
  },
  {
   "cell_type": "code",
   "execution_count": 182,
   "id": "3e61a2e1",
   "metadata": {},
   "outputs": [
    {
     "name": "stdout",
     "output_type": "stream",
     "text": [
      "16 is a power of two.\n"
     ]
    }
   ],
   "source": [
    "number = 16\n",
    "is_power_of_two_result = is_power_of_two(number)\n",
    "if is_power_of_two_result:\n",
    "    print(number, \"is a power of two.\")\n",
    "else:\n",
    "    print(number, \"is not a power of two.\")\n"
   ]
  },
  {
   "cell_type": "markdown",
   "id": "3fc5f9b5",
   "metadata": {},
   "source": [
    "25. Write a Python program to merge two sorted lists into a single sorted list."
   ]
  },
  {
   "cell_type": "code",
   "execution_count": 29,
   "id": "bd9f088e",
   "metadata": {},
   "outputs": [],
   "source": [
    "def mergedSortedlist(lst1,lst2):\n",
    "    merged_list=[]\n",
    "    i = j = 0\n",
    "    \n",
    "    while i < len(lst1) and j < len(lst2):\n",
    "                \n",
    "        if lst1[i] < lst2[j]:\n",
    "            merged_list.append(lst1[i])\n",
    "            i += 1\n",
    "            \n",
    "        else:\n",
    "            merged_list.append(lst2[j])\n",
    "            j += 1\n",
    "            \n",
    "    while i < len(lst1):\n",
    "        merged_list.append(lst1[i])\n",
    "       \n",
    "    while j < len(lst2):\n",
    "        merged_list.append(lst2[i])\n",
    "        \n",
    "    return merged_list\n",
    "         \n",
    "        \n",
    "            \n",
    "            \n",
    "            \n",
    "    \n",
    "    "
   ]
  },
  {
   "cell_type": "code",
   "execution_count": 30,
   "id": "06cca408",
   "metadata": {},
   "outputs": [
    {
     "ename": "IndexError",
     "evalue": "list index out of range",
     "output_type": "error",
     "traceback": [
      "\u001b[1;31m---------------------------------------------------------------------------\u001b[0m",
      "\u001b[1;31mIndexError\u001b[0m                                Traceback (most recent call last)",
      "\u001b[1;32m~\\AppData\\Local\\Temp\\ipykernel_1352\\3382073369.py\u001b[0m in \u001b[0;36m<module>\u001b[1;34m\u001b[0m\n\u001b[0;32m      1\u001b[0m \u001b[0mlst1\u001b[0m \u001b[1;33m=\u001b[0m \u001b[1;33m[\u001b[0m\u001b[1;36m1\u001b[0m\u001b[1;33m,\u001b[0m \u001b[1;36m3\u001b[0m\u001b[1;33m,\u001b[0m \u001b[1;36m5\u001b[0m\u001b[1;33m,\u001b[0m \u001b[1;36m7\u001b[0m\u001b[1;33m]\u001b[0m\u001b[1;33m\u001b[0m\u001b[1;33m\u001b[0m\u001b[0m\n\u001b[0;32m      2\u001b[0m \u001b[0mlst2\u001b[0m \u001b[1;33m=\u001b[0m \u001b[1;33m[\u001b[0m\u001b[1;36m2\u001b[0m\u001b[1;33m,\u001b[0m \u001b[1;36m4\u001b[0m\u001b[1;33m,\u001b[0m \u001b[1;36m6\u001b[0m\u001b[1;33m,\u001b[0m \u001b[1;36m8\u001b[0m\u001b[1;33m]\u001b[0m\u001b[1;33m\u001b[0m\u001b[1;33m\u001b[0m\u001b[0m\n\u001b[1;32m----> 3\u001b[1;33m \u001b[0mmerged\u001b[0m \u001b[1;33m=\u001b[0m \u001b[0mmergedSortedlist\u001b[0m\u001b[1;33m(\u001b[0m\u001b[0mlst1\u001b[0m\u001b[1;33m,\u001b[0m \u001b[0mlst2\u001b[0m\u001b[1;33m)\u001b[0m\u001b[1;33m\u001b[0m\u001b[1;33m\u001b[0m\u001b[0m\n\u001b[0m\u001b[0;32m      4\u001b[0m \u001b[0mprint\u001b[0m\u001b[1;33m(\u001b[0m\u001b[0mmerged\u001b[0m\u001b[1;33m)\u001b[0m\u001b[1;33m\u001b[0m\u001b[1;33m\u001b[0m\u001b[0m\n",
      "\u001b[1;32m~\\AppData\\Local\\Temp\\ipykernel_1352\\3391564980.py\u001b[0m in \u001b[0;36mmergedSortedlist\u001b[1;34m(lst1, lst2)\u001b[0m\n\u001b[0;32m     17\u001b[0m \u001b[1;33m\u001b[0m\u001b[0m\n\u001b[0;32m     18\u001b[0m     \u001b[1;32mwhile\u001b[0m \u001b[0mj\u001b[0m \u001b[1;33m<\u001b[0m \u001b[0mlen\u001b[0m\u001b[1;33m(\u001b[0m\u001b[0mlst2\u001b[0m\u001b[1;33m)\u001b[0m\u001b[1;33m:\u001b[0m\u001b[1;33m\u001b[0m\u001b[1;33m\u001b[0m\u001b[0m\n\u001b[1;32m---> 19\u001b[1;33m         \u001b[0mmerged_list\u001b[0m\u001b[1;33m.\u001b[0m\u001b[0mappend\u001b[0m\u001b[1;33m(\u001b[0m\u001b[0mlst2\u001b[0m\u001b[1;33m[\u001b[0m\u001b[0mi\u001b[0m\u001b[1;33m]\u001b[0m\u001b[1;33m)\u001b[0m\u001b[1;33m\u001b[0m\u001b[1;33m\u001b[0m\u001b[0m\n\u001b[0m\u001b[0;32m     20\u001b[0m \u001b[1;33m\u001b[0m\u001b[0m\n\u001b[0;32m     21\u001b[0m     \u001b[1;32mreturn\u001b[0m \u001b[0mmerged_list\u001b[0m\u001b[1;33m\u001b[0m\u001b[1;33m\u001b[0m\u001b[0m\n",
      "\u001b[1;31mIndexError\u001b[0m: list index out of range"
     ]
    }
   ],
   "source": [
    "\n",
    "lst1 = [1, 3, 5, 7]\n",
    "lst2 = [2, 4, 6, 8]\n",
    "merged = mergedSortedlist(lst1, lst2)\n",
    "print(merged)"
   ]
  },
  {
   "cell_type": "markdown",
   "id": "ed88391a",
   "metadata": {},
   "source": [
    "26. Implement a function to find the mode of a list of numbers."
   ]
  },
  {
   "cell_type": "code",
   "execution_count": 34,
   "id": "dabfb2ac",
   "metadata": {},
   "outputs": [],
   "source": [
    "from collections import Counter\n",
    "\n",
    "def find_mode(numbers):\n",
    "    # Count the frequency of each number in the list\n",
    "    counter = Counter(numbers)\n",
    "    \n",
    "    # Get the maximum frequency\n",
    "    max_frequency = max(counter.values())\n",
    "    \n",
    "    # Find all numbers with the maximum frequency (mode)\n",
    "    mode = [number for number, frequency in counter.items() if frequency == max_frequency]\n",
    "    \n",
    "    return mode\n"
   ]
  },
  {
   "cell_type": "code",
   "execution_count": 35,
   "id": "3bb3b758",
   "metadata": {},
   "outputs": [
    {
     "name": "stdout",
     "output_type": "stream",
     "text": [
      "[2, 4]\n"
     ]
    }
   ],
   "source": [
    "numbers = [1, 2, 3, 4, 2, 2, 5, 4, 4]\n",
    "mode = find_mode(numbers)\n",
    "print(mode)\n",
    "\n"
   ]
  },
  {
   "cell_type": "markdown",
   "id": "03cb9879",
   "metadata": {},
   "source": [
    "27. Write a program to find the greatest common divisor (GCD) of two numbers."
   ]
  },
  {
   "cell_type": "code",
   "execution_count": 36,
   "id": "29b73e91",
   "metadata": {},
   "outputs": [],
   "source": [
    "#find GCd\n",
    "def gcd(a,b):\n",
    "    if b == 0:\n",
    "        return a\n",
    "    return gcd(b, a%b)\n",
    "    "
   ]
  },
  {
   "cell_type": "code",
   "execution_count": 38,
   "id": "321f0ad4",
   "metadata": {},
   "outputs": [
    {
     "name": "stdout",
     "output_type": "stream",
     "text": [
      "The GCD of 48 and 36 is: 12\n"
     ]
    }
   ],
   "source": [
    "num1 = 48\n",
    "num2 = 36\n",
    "result = gcd(num1, num2)\n",
    "print(\"The GCD of\", num1, \"and\", num2, \"is:\", result)"
   ]
  },
  {
   "cell_type": "markdown",
   "id": "1658e8e0",
   "metadata": {},
   "source": [
    "28. Implement a function to calculate the square root of a given number"
   ]
  },
  {
   "cell_type": "code",
   "execution_count": 40,
   "id": "9e90621b",
   "metadata": {},
   "outputs": [],
   "source": [
    "import math\n",
    "\n",
    "def squareroot(number):\n",
    "    if number < 0:\n",
    "        raise ValueError(\"square root of the number\")\n",
    "    return math.sqrt(number)    \n",
    "        \n",
    "    "
   ]
  },
  {
   "cell_type": "code",
   "execution_count": 41,
   "id": "5dc2abfb",
   "metadata": {},
   "outputs": [
    {
     "name": "stdout",
     "output_type": "stream",
     "text": [
      "2.23606797749979\n"
     ]
    }
   ],
   "source": [
    "number=5\n",
    "result=squareroot(number)\n",
    "print(result)"
   ]
  },
  {
   "cell_type": "markdown",
   "id": "1a7ff9fc",
   "metadata": {},
   "source": [
    "29. Write a Python program to check if a given string is a valid palindrome ignoring non-alphanumeric characters."
   ]
  },
  {
   "cell_type": "code",
   "execution_count": 97,
   "id": "85563fc4",
   "metadata": {},
   "outputs": [],
   "source": [
    "import re\n",
    "\n",
    "def is_palindrome(s):\n",
    "    # Remove non-alphanumeric characters\n",
    "    alphanumeric_s = re.sub(r'[^a-zA-Z0-9]', '', s)\n",
    "  \n",
    "    lowercase_s = alphanumeric_s.lower()\n",
    "    \n",
    "    # Check if the lowercase string is equal to its reverse\n",
    "    return lowercase_s == lowercase_s[::-1]"
   ]
  },
  {
   "cell_type": "code",
   "execution_count": 98,
   "id": "43021088",
   "metadata": {},
   "outputs": [
    {
     "name": "stdout",
     "output_type": "stream",
     "text": [
      "False\n",
      "False\n"
     ]
    }
   ],
   "source": [
    "string1 = \"this is a mathematics car\"\n",
    "string2 = \"race a car\"\n",
    "\n",
    "print(is_palindrome(string1))  # Output: True\n",
    "print(is_palindrome(string2))  # Output: False\n",
    "\n"
   ]
  },
  {
   "cell_type": "markdown",
   "id": "c7b2611f",
   "metadata": {},
   "source": [
    "30. Implement a function to find the minimum element in a rotated sorted list"
   ]
  },
  {
   "cell_type": "code",
   "execution_count": 99,
   "id": "e4e531c8",
   "metadata": {},
   "outputs": [],
   "source": [
    "def findMin(nums):\n",
    "    #left pointer\n",
    "    left = 0\n",
    "    #right pointer\n",
    "    right = len(nums) - 1\n",
    "    \n",
    "    while left < right:\n",
    "        #find the midvalue\n",
    "        mid = left + (right - left) // 2\n",
    "        \n",
    "        if nums[mid] > nums[right]:\n",
    "            \n",
    "            left = mid + 1\n",
    "            \n",
    "        else:\n",
    "            \n",
    "            right = mid\n",
    "            \n",
    "\n",
    "    return nums[left]"
   ]
  },
  {
   "cell_type": "code",
   "execution_count": 100,
   "id": "e0f05b30",
   "metadata": {},
   "outputs": [
    {
     "name": "stdout",
     "output_type": "stream",
     "text": [
      "The minimum element is: 1\n"
     ]
    }
   ],
   "source": [
    "nums = [4, 5, 6, 7, 1, 2]\n",
    "\n",
    "minimum = findMin(nums)\n",
    "\n",
    "print(\"The minimum element is:\", minimum)"
   ]
  },
  {
   "cell_type": "markdown",
   "id": "ecc2b2f5",
   "metadata": {},
   "source": [
    "31. Write a program to find the sum of all even numbers in a list."
   ]
  },
  {
   "cell_type": "code",
   "execution_count": 101,
   "id": "6076695e",
   "metadata": {},
   "outputs": [],
   "source": [
    "def findSum(numbers):\n",
    "    sum_even = 0\n",
    "    \n",
    "    for num in numbers:\n",
    "        if num % 2 == 0:\n",
    "            sum_even += num\n",
    "    return sum_even        \n",
    "    "
   ]
  },
  {
   "cell_type": "code",
   "execution_count": 102,
   "id": "b7c526cf",
   "metadata": {},
   "outputs": [
    {
     "name": "stdout",
     "output_type": "stream",
     "text": [
      "The sum of even numbers is: 30\n"
     ]
    }
   ],
   "source": [
    "nums = [1, 2, 3, 4, 5, 6, 7, 8, 9, 10]\n",
    "result = findSum(nums)\n",
    "print(\"The sum of even numbers is:\", result)"
   ]
  },
  {
   "cell_type": "markdown",
   "id": "7decd706",
   "metadata": {},
   "source": [
    "32. Implement a function to calculate the power of a number using recursion."
   ]
  },
  {
   "cell_type": "code",
   "execution_count": 103,
   "id": "8d7c7577",
   "metadata": {},
   "outputs": [],
   "source": [
    "\n",
    "def power_fn(base,exponent):\n",
    "    if exponent == 0:\n",
    "        return 1\n",
    "    elif exponent < 0:\n",
    "        return  1 / power_fn(base, -exponent)\n",
    "    else:\n",
    "        return base * power_fn(base,exponent - 1)"
   ]
  },
  {
   "cell_type": "code",
   "execution_count": 105,
   "id": "ab5741b4",
   "metadata": {},
   "outputs": [
    {
     "name": "stdout",
     "output_type": "stream",
     "text": [
      "exponent of 2 of 3 is : 8\n"
     ]
    }
   ],
   "source": [
    "base = 2\n",
    "exponent = 3\n",
    "expo = power_fn(base,exponent)\n",
    "print(f\"exponent of {base} of {exponent} is :\",expo )"
   ]
  },
  {
   "cell_type": "markdown",
   "id": "2d628b46",
   "metadata": {},
   "source": [
    "33. Write a Python program to remove duplicates from a list while preserving the order."
   ]
  },
  {
   "cell_type": "code",
   "execution_count": 124,
   "id": "b707b9c0",
   "metadata": {},
   "outputs": [],
   "source": [
    "def removeDuplicates(lst):\n",
    "    unique_list = []\n",
    "    watched = set()\n",
    "    for i in lst:\n",
    "        if i not in watched:\n",
    "            unique_list.append(i)\n",
    "            watched.add(i)\n",
    "    return unique_list    "
   ]
  },
  {
   "cell_type": "code",
   "execution_count": 125,
   "id": "89b7162c",
   "metadata": {},
   "outputs": [
    {
     "name": "stdout",
     "output_type": "stream",
     "text": [
      "[3, 4, 2, 1, 5, 6]\n"
     ]
    }
   ],
   "source": [
    "my_list = [3, 4, 2, 2, 1, 3, 5, 6, 4]\n",
    "result = removeDuplicates(my_list)\n",
    "print(result)"
   ]
  },
  {
   "cell_type": "markdown",
   "id": "8740e38a",
   "metadata": {},
   "source": [
    "34. Implement a function to find the longest common prefix among a list of strings."
   ]
  },
  {
   "cell_type": "code",
   "execution_count": 132,
   "id": "05a71b2e",
   "metadata": {},
   "outputs": [],
   "source": [
    "def longest_common_prefix(strs):\n",
    "    if not strs:\n",
    "        return \"\"\n",
    "\n",
    "    prefix = strs[0]\n",
    "\n",
    "    for string in strs[1:]:\n",
    "        while string[:len(prefix)] != prefix:\n",
    "            prefix = prefix[:-1]\n",
    "            if not prefix:\n",
    "                return \"\"\n",
    "\n",
    "    return prefix\n"
   ]
  },
  {
   "cell_type": "code",
   "execution_count": 137,
   "id": "1c147588",
   "metadata": {},
   "outputs": [
    {
     "name": "stdout",
     "output_type": "stream",
     "text": [
      "f\n"
     ]
    }
   ],
   "source": [
    "strs=[\"fitha\",\"flowr\",\"forts\"]\n",
    "result=longest_common_prefix(strs)\n",
    "print(result)"
   ]
  },
  {
   "cell_type": "markdown",
   "id": "2f6215f5",
   "metadata": {},
   "source": [
    "35. Write a program to check if a given number is a perfect square."
   ]
  },
  {
   "cell_type": "code",
   "execution_count": 152,
   "id": "9ed04ef9",
   "metadata": {},
   "outputs": [],
   "source": [
    "def perfectSquare(number):\n",
    "    if number < 0:\n",
    "        return False\n",
    "    elif number == 0 or number == 1:\n",
    "        return True\n",
    "    else:\n",
    "        left = 1\n",
    "        right = number//2\n",
    "        \n",
    "        while left <= right:\n",
    "            mid = (left + right) // 2\n",
    "            square = mid * mid\n",
    "            \n",
    "            if square == number:\n",
    "                return True\n",
    "            elif square < number:\n",
    "                left=mid + 1\n",
    "            else:\n",
    "                right=mid - 1\n",
    "        return False\n",
    "    \n",
    "            \n",
    "            \n",
    "        \n",
    "    "
   ]
  },
  {
   "cell_type": "code",
   "execution_count": 155,
   "id": "ed492fda",
   "metadata": {},
   "outputs": [
    {
     "name": "stdout",
     "output_type": "stream",
     "text": [
      "Is 100 a perfect square? True\n"
     ]
    }
   ],
   "source": [
    "number = 100\n",
    "result = perfectSquare(number)\n",
    "print(\"Is\", number, \"a perfect square?\", result)"
   ]
  },
  {
   "cell_type": "markdown",
   "id": "234fdc2f",
   "metadata": {},
   "source": [
    "36. Implement a function to calculate the product of all elements in a list."
   ]
  },
  {
   "cell_type": "code",
   "execution_count": 160,
   "id": "79e509c2",
   "metadata": {},
   "outputs": [],
   "source": [
    "def calculate_product(lst):\n",
    "    product = 1\n",
    "    for num in lst:\n",
    "        product *= num\n",
    "    return product    "
   ]
  },
  {
   "cell_type": "code",
   "execution_count": 162,
   "id": "721dfffa",
   "metadata": {},
   "outputs": [
    {
     "name": "stdout",
     "output_type": "stream",
     "text": [
      "[2, 3, 4, 5]\n"
     ]
    }
   ],
   "source": [
    "numbers=[2,3,4,5]\n",
    "result = calculate_product(numbers)\n",
    "print(numbers)"
   ]
  },
  {
   "cell_type": "markdown",
   "id": "028c0ec0",
   "metadata": {},
   "source": [
    "37. Write a Python program to reverse the order of words in a sentence while preserving the word order."
   ]
  },
  {
   "cell_type": "code",
   "execution_count": 164,
   "id": "51ea15e3",
   "metadata": {},
   "outputs": [
    {
     "name": "stdout",
     "output_type": "stream",
     "text": [
      "Reversed sentence: smitha is this Hello,\n"
     ]
    }
   ],
   "source": [
    "def reverse_sentence(sentence):\n",
    "    words = sentence.split()\n",
    "    reversed_words = words[::-1]\n",
    "    reversed_sentence = ' '.join(reversed_words)\n",
    "    return reversed_sentence\n",
    "\n",
    "# Example usage\n",
    "sentence = \"Hello, this is smitha\"\n",
    "reversed_sentence = reverse_sentence(sentence)\n",
    "print(\"Reversed sentence:\", reversed_sentence)\n"
   ]
  },
  {
   "cell_type": "markdown",
   "id": "16a4d623",
   "metadata": {},
   "source": [
    "38. Implement a function to find the missing number in a given list of consecutive numbers."
   ]
  },
  {
   "cell_type": "code",
   "execution_count": 174,
   "id": "63fd173d",
   "metadata": {},
   "outputs": [],
   "source": [
    "def find_missing(nums):\n",
    "    n=len(nums) + 1\n",
    "    total_sums = (n*(n+1)) // 2\n",
    "    actualsum = sum(nums)\n",
    "    missed_number = total_sums - actualsum\n",
    "    return missed_number\n",
    "    "
   ]
  },
  {
   "cell_type": "code",
   "execution_count": 175,
   "id": "e1c3b0e3",
   "metadata": {},
   "outputs": [
    {
     "name": "stdout",
     "output_type": "stream",
     "text": [
      "The missing number is: 4\n"
     ]
    }
   ],
   "source": [
    "numbers = [1, 2, 3, 5, 6, 7, 8, 9]\n",
    "missing = find_missing(numbers)\n",
    "print(\"The missing number is:\", missing)"
   ]
  },
  {
   "cell_type": "markdown",
   "id": "2234b70d",
   "metadata": {},
   "source": [
    "39. Write a program to find the sum of digits of a given number."
   ]
  },
  {
   "cell_type": "code",
   "execution_count": 189,
   "id": "064a01bd",
   "metadata": {},
   "outputs": [],
   "source": [
    "def sumofDigits(numbers):\n",
    "    sumdigits = 0\n",
    "    \n",
    "    while numbers > 0:\n",
    "        \n",
    "        digit = numbers % 10\n",
    "        \n",
    "        sumdigits += digit\n",
    "        numbers //= 10\n",
    "    return sumdigits    \n",
    "    \n",
    "    "
   ]
  },
  {
   "cell_type": "code",
   "execution_count": 190,
   "id": "b3edbde4",
   "metadata": {},
   "outputs": [
    {
     "name": "stdout",
     "output_type": "stream",
     "text": [
      "The sum of digits of 12345 is: 15\n"
     ]
    }
   ],
   "source": [
    "num = 12345\n",
    "result = sumofDigits(num)\n",
    "print(\"The sum of digits of\", num, \"is:\", result)"
   ]
  },
  {
   "cell_type": "markdown",
   "id": "2b0e1b79",
   "metadata": {},
   "source": [
    "40. Implement a function to check if a given string is a valid palindrome considering case sensitivity."
   ]
  },
  {
   "cell_type": "code",
   "execution_count": 223,
   "id": "002e9b73",
   "metadata": {},
   "outputs": [],
   "source": [
    "def is_palindrome(string):\n",
    "    reversed_string = string[::-1]\n",
    "    return string == reversed_string"
   ]
  },
  {
   "cell_type": "code",
   "execution_count": 227,
   "id": "2fc64082",
   "metadata": {},
   "outputs": [
    {
     "name": "stdout",
     "output_type": "stream",
     "text": [
      "True\n"
     ]
    }
   ],
   "source": [
    "string=\"radar\"\n",
    "result=is_palindrome(string)\n",
    "print(result)"
   ]
  },
  {
   "cell_type": "markdown",
   "id": "28900e90",
   "metadata": {},
   "source": [
    "41. Write a Python program to find the smallest missing positive integer in a list."
   ]
  },
  {
   "cell_type": "code",
   "execution_count": 229,
   "id": "c4c1e415",
   "metadata": {},
   "outputs": [],
   "source": [
    "def findSmallest(nums):\n",
    "    n=len(nums)\n",
    "    \n",
    "    for i in range(n):\n",
    "        while 1 <= nums[i] <= n and nums[nums[i] - 1] != nums[i]:\n",
    "            nums[nums[i] - 1], nums[i] = nums[i], nums[nums[i] - 1]\n",
    "    # Step 2: Find the first missing positive integer\n",
    "    for i in range(n):\n",
    "        if nums[i] != i + 1:\n",
    "            return i + 1\n",
    "    \n",
    "    # Step 3: If all positive integers are present, return n + 1\n",
    "    return n + 1        \n",
    "            "
   ]
  },
  {
   "cell_type": "code",
   "execution_count": 231,
   "id": "d5f254fc",
   "metadata": {},
   "outputs": [
    {
     "name": "stdout",
     "output_type": "stream",
     "text": [
      "The smallest missing positive integer is: 1\n"
     ]
    }
   ],
   "source": [
    "numbers = [3, 4, 2,-1,-2]\n",
    "smallest_missing = findSmallest(numbers)\n",
    "print(\"The smallest missing positive integer is:\", smallest_missing)"
   ]
  },
  {
   "cell_type": "markdown",
   "id": "548c5d91",
   "metadata": {},
   "source": [
    "42. Implement a function to find the longest palindrome substring in a given string."
   ]
  },
  {
   "cell_type": "code",
   "execution_count": 232,
   "id": "00883894",
   "metadata": {},
   "outputs": [
    {
     "name": "stdout",
     "output_type": "stream",
     "text": [
      "Longest palindrome substring: bab\n"
     ]
    }
   ],
   "source": [
    "def longest_palindrome(s):\n",
    "    longest = \"\"\n",
    "    \n",
    "    for i in range(len(s)):\n",
    "        # Check odd-length palindromes\n",
    "        palindrome_odd = expand_from_center(s, i, i)\n",
    "        if len(palindrome_odd) > len(longest):\n",
    "            longest = palindrome_odd\n",
    "        \n",
    "        # Check even-length palindromes\n",
    "        palindrome_even = expand_from_center(s, i, i + 1)\n",
    "        if len(palindrome_even) > len(longest):\n",
    "            longest = palindrome_even\n",
    "    \n",
    "    return longest\n",
    "\n",
    "def expand_from_center(s, left, right):\n",
    "    while left >= 0 and right < len(s) and s[left] == s[right]:\n",
    "        left -= 1\n",
    "        right += 1\n",
    "    \n",
    "    return s[left + 1 : right]\n",
    "\n",
    "# Example usage\n",
    "string = \"babad\"\n",
    "result = longest_palindrome(string)\n",
    "print(\"Longest palindrome substring:\", result)\n"
   ]
  },
  {
   "cell_type": "markdown",
   "id": "af6b5bfb",
   "metadata": {},
   "source": [
    "43. Write a program to find the number of occurrences of a given element in a list."
   ]
  },
  {
   "cell_type": "code",
   "execution_count": 234,
   "id": "437e50b6",
   "metadata": {},
   "outputs": [],
   "source": [
    "def count_occurrences(lst, element):\n",
    "    count = 0\n",
    "    for item in lst:\n",
    "        if item == element:\n",
    "            count += 1\n",
    "    return count\n",
    "\n"
   ]
  },
  {
   "cell_type": "code",
   "execution_count": 235,
   "id": "b01a5cae",
   "metadata": {},
   "outputs": [
    {
     "name": "stdout",
     "output_type": "stream",
     "text": [
      "The number of occurrences of 2 in the list is: 3\n"
     ]
    }
   ],
   "source": [
    "my_list = [1, 2, 3, 2, 4, 2, 5]\n",
    "target = 2\n",
    "occurrences = count_occurrences(my_list, target)\n",
    "print(\"The number of occurrences of\", target, \"in the list is:\", occurrences)"
   ]
  },
  {
   "cell_type": "markdown",
   "id": "399929f6",
   "metadata": {},
   "source": [
    "44. Implement a function to check if a given number is a perfect number"
   ]
  },
  {
   "cell_type": "code",
   "execution_count": 236,
   "id": "f135daf2",
   "metadata": {},
   "outputs": [],
   "source": [
    "def is_perfect_number(num):\n",
    "    if num <= 0:\n",
    "        return False\n",
    "\n",
    "    divisor_sum = 0\n",
    "    for i in range(1, num):\n",
    "        if num % i == 0:\n",
    "            divisor_sum += i\n",
    "\n",
    "    return divisor_sum == num"
   ]
  },
  {
   "cell_type": "code",
   "execution_count": 237,
   "id": "46c05eaa",
   "metadata": {},
   "outputs": [
    {
     "name": "stdout",
     "output_type": "stream",
     "text": [
      "Is 28 a perfect number? True\n"
     ]
    }
   ],
   "source": [
    "number = 28\n",
    "result = is_perfect_number(number)\n",
    "print(\"Is\", number, \"a perfect number?\", result)"
   ]
  },
  {
   "cell_type": "markdown",
   "id": "fd14b8aa",
   "metadata": {},
   "source": [
    "45. Write a Python program to remove all duplicates from a string."
   ]
  },
  {
   "cell_type": "code",
   "execution_count": 246,
   "id": "123dd7fa",
   "metadata": {},
   "outputs": [],
   "source": [
    "def remove_duplicates(string):\n",
    "    unique_string=[]\n",
    "    for char in string:\n",
    "        if char not in unique_string:\n",
    "             unique_string.append(char)\n",
    "    return ''.join(unique_string)            "
   ]
  },
  {
   "cell_type": "code",
   "execution_count": 247,
   "id": "88c074ab",
   "metadata": {},
   "outputs": [
    {
     "name": "stdout",
     "output_type": "stream",
     "text": [
      "String with duplicates removed: Helo, Wrd!\n"
     ]
    }
   ],
   "source": [
    "text = \"Hello, World!\"\n",
    "result = remove_duplicates(text)\n",
    "print(\"String with duplicates removed:\", result)"
   ]
  },
  {
   "cell_type": "markdown",
   "id": "ab9c6a3e",
   "metadata": {},
   "source": [
    "46. Implement a function to find the first missing positive"
   ]
  },
  {
   "cell_type": "code",
   "execution_count": 248,
   "id": "1154d76b",
   "metadata": {},
   "outputs": [
    {
     "name": "stdout",
     "output_type": "stream",
     "text": [
      "The first missing positive integer is: 2\n"
     ]
    }
   ],
   "source": [
    "def find_first_missing_positive(nums):\n",
    "    n = len(nums)\n",
    "\n",
    "    # Step 1: Move all positive integers to the correct position\n",
    "    i = 0\n",
    "    while i < n:\n",
    "        # Skip negative numbers and numbers outside the range [1, n]\n",
    "        if nums[i] <= 0 or nums[i] > n:\n",
    "            i += 1\n",
    "            continue\n",
    "\n",
    "        # Swap the number to its correct position if it is not already there\n",
    "        if nums[i] != nums[nums[i] - 1]:\n",
    "            nums[nums[i] - 1], nums[i] = nums[i], nums[nums[i] - 1]\n",
    "        else:\n",
    "            i += 1\n",
    "\n",
    "    # Step 2: Find the first missing positive integer\n",
    "    for i in range(n):\n",
    "        if nums[i] != i + 1:\n",
    "            return i + 1\n",
    "\n",
    "    # Step 3: If all positive integers are present, return n + 1\n",
    "    return n + 1\n",
    "\n",
    "# Example usage\n",
    "numbers = [3, 4, -1, 1]\n",
    "first_missing = find_first_missing_positive(numbers)\n",
    "print(\"The first missing positive integer is:\", first_missing)\n"
   ]
  }
 ],
 "metadata": {
  "kernelspec": {
   "display_name": "Python 3 (ipykernel)",
   "language": "python",
   "name": "python3"
  },
  "language_info": {
   "codemirror_mode": {
    "name": "ipython",
    "version": 3
   },
   "file_extension": ".py",
   "mimetype": "text/x-python",
   "name": "python",
   "nbconvert_exporter": "python",
   "pygments_lexer": "ipython3",
   "version": "3.9.13"
  }
 },
 "nbformat": 4,
 "nbformat_minor": 5
}
