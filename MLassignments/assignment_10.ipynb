{
 "cells": [
  {
   "cell_type": "code",
   "execution_count": null,
   "metadata": {},
   "outputs": [],
   "source": [
    "1. Define the Bayesian interpretation of probability.\n",
    "2. Define probability of a union of two events with equation.\n",
    "3. What is joint probability? What is its formula?\n",
    "4. What is chain rule of probability?\n",
    "5. What is conditional probability means? What is the formula of it?\n",
    "6. What are continuous random variables?\n",
    "7. What are Bernoulli distributions? What is the formula of it?\n",
    "8. What is binomial distribution? What is the formula?\n",
    "9. What is Poisson distribution? What is the formula?\n",
    "10. Define covariance.\n",
    "11. Define correlation\n",
    "12. Define sampling with replacement. Give example.\n",
    "13. What is sampling without replacement? Give example.\n",
    "14. What is hypothesis? Give example."
   ]
  }
 ],
 "metadata": {
  "language_info": {
   "name": "python"
  },
  "orig_nbformat": 4
 },
 "nbformat": 4,
 "nbformat_minor": 2
}
