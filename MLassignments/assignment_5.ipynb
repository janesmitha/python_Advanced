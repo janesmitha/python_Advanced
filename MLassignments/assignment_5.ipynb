{
 "cells": [
  {
   "cell_type": "code",
   "execution_count": null,
   "metadata": {},
   "outputs": [],
   "source": [
    "1. What are the key tasks involved in getting ready to work with machine learning modeling ?"
   ]
  },
  {
   "attachments": {},
   "cell_type": "markdown",
   "metadata": {},
   "source": [
    "Ans: The Key Tasks involved in getting ready to work with Machine learning Modelling are:\n",
    "\n",
    "Data collection: Defining the problem and assembling a dataset.\n",
    "Data preparation: Preparing your data.\n",
    "Choosing a Model\n",
    "Training the Model: Developing a model that does better than a baseline.\n",
    "Evaluating the Model: Choosing a measure of success. Deciding on an evaluation protocol.\n",
    "Parameter tuning: Scaling up: developing a model that overfits.Regularizing your model and tuning your parameters.\n",
    "Prediction or Inference."
   ]
  },
  {
   "attachments": {},
   "cell_type": "markdown",
   "metadata": {},
   "source": [
    "2. What are the different forms of data used in machine learning ? Give a specific example for each of them ?"
   ]
  },
  {
   "attachments": {},
   "cell_type": "markdown",
   "metadata": {},
   "source": [
    "Ans: Most data can be categorized into 4 basic types from a Machine Learning perspective: \n",
    "Numerical Data,\n",
    " Categorical Data, \n",
    " Time-Series Data, \n",
    " and Text data.\n",
    " \n",
    " \n"
   ]
  },
  {
   "attachments": {},
   "cell_type": "markdown",
   "metadata": {},
   "source": []
  }
 ],
 "metadata": {
  "language_info": {
   "name": "python"
  },
  "orig_nbformat": 4
 },
 "nbformat": 4,
 "nbformat_minor": 2
}
