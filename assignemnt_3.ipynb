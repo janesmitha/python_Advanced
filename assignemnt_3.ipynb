{
 "cells": [
  {
   "cell_type": "code",
   "execution_count": null,
   "id": "8ac5a788",
   "metadata": {},
   "outputs": [],
   "source": [
    "1. What is the concept of an abstract superclass?"
   ]
  },
  {
   "cell_type": "code",
   "execution_count": null,
   "id": "c4177a79",
   "metadata": {},
   "outputs": [],
   "source": [
    "An abstract class is a class, but not one you can create objects from directly. Its purpose is to define how other classes should look like, i.e. \n",
    "what methods and properties they are expected to have."
   ]
  },
  {
   "cell_type": "code",
   "execution_count": null,
   "id": "ae62e5a0",
   "metadata": {},
   "outputs": [],
   "source": [
    "2. What happens when a class statement's top level contains a basic assignment statement?"
   ]
  },
  {
   "cell_type": "code",
   "execution_count": null,
   "id": "68b308c1",
   "metadata": {},
   "outputs": [],
   "source": [
    "\n",
    "An assignment statement evaluates the expression list (remember that this can be a single expression or a comma-separated list, \n",
    "                                                       the latter yielding a tuple) \n",
    "and assigns the single resulting object to each of the target lists, from left to right.\n"
   ]
  },
  {
   "cell_type": "code",
   "execution_count": null,
   "id": "cfe6b0ba",
   "metadata": {},
   "outputs": [],
   "source": [
    "3. Why does a class need to manually call a superclass's __init__ method?"
   ]
  },
  {
   "cell_type": "code",
   "execution_count": null,
   "id": "970e386c",
   "metadata": {},
   "outputs": [],
   "source": [
    "The main reason for always calling base class _init__ is that base class may typically create member variable and \n",
    "initialize them to defaults. So if you don't call base class init, none of that code would be \n",
    "executed and you would end up with base class that has no member variables."
   ]
  },
  {
   "cell_type": "code",
   "execution_count": null,
   "id": "2e58e05b",
   "metadata": {},
   "outputs": [],
   "source": [
    "\n",
    "4. How can you augment, instead of completely replacing, an inherited method?"
   ]
  },
  {
   "cell_type": "code",
   "execution_count": null,
   "id": "cb7e15c9",
   "metadata": {},
   "outputs": [],
   "source": [
    "Message forwarding allows you to augment an inherited method in such a way that it can perform its inherited action and some new action."
   ]
  },
  {
   "cell_type": "code",
   "execution_count": null,
   "id": "74fab38d",
   "metadata": {},
   "outputs": [],
   "source": [
    "\n",
    "5. How is the local scope of a class different from that of a function?"
   ]
  },
  {
   "cell_type": "code",
   "execution_count": null,
   "id": "63a381d9",
   "metadata": {},
   "outputs": [],
   "source": [
    ", if you assign a value to a name inside a function, then that name will have a local Python scope. In contrast,\n",
    " if you assign a value to a name outside of all functions—say, \n",
    "at the top level of a module—then that name will have a global Python scope."
   ]
  }
 ],
 "metadata": {
  "kernelspec": {
   "display_name": "Python 3 (ipykernel)",
   "language": "python",
   "name": "python3"
  },
  "language_info": {
   "codemirror_mode": {
    "name": "ipython",
    "version": 3
   },
   "file_extension": ".py",
   "mimetype": "text/x-python",
   "name": "python",
   "nbconvert_exporter": "python",
   "pygments_lexer": "ipython3",
   "version": "3.9.13"
  }
 },
 "nbformat": 4,
 "nbformat_minor": 5
}
