{
 "cells": [
  {
   "cell_type": "code",
   "execution_count": null,
   "id": "85019ffd",
   "metadata": {},
   "outputs": [],
   "source": [
    "Q1. What is the relationship between classes and modules?"
   ]
  },
  {
   "cell_type": "code",
   "execution_count": null,
   "id": "5bac1139",
   "metadata": {},
   "outputs": [],
   "source": [
    "Modules are collections of methods and constants. They cannot generate instances. Classes may generate instances (objects),\n",
    "and have per-instance state (instance variables)."
   ]
  },
  {
   "cell_type": "code",
   "execution_count": null,
   "id": "509c3aae",
   "metadata": {},
   "outputs": [],
   "source": [
    "\n",
    "Q2. How do you make instances and classes?"
   ]
  },
  {
   "cell_type": "code",
   "execution_count": null,
   "id": "32ecb6bb",
   "metadata": {},
   "outputs": [],
   "source": [
    "In python by using keyword \"class\" we can create classes.\n",
    "We observe that when we use the new keyword followed by the class name\n",
    "it creates an instance or object of that class.call the class using class name and pass in\n",
    "whatever arguments its __init__ method accepts."
   ]
  },
  {
   "cell_type": "code",
   "execution_count": null,
   "id": "9d79257e",
   "metadata": {},
   "outputs": [],
   "source": [
    "class School:\n",
    "    student=\"ABC\"\n",
    "def __init__(self, name, course):\n",
    "        self.name = name\n",
    "        self.course = course\n",
    "    \n",
    "School1 = School(\"Jane\", \"JavaScript\")\n",
    "School2 = School(\"John\", \"Python\")\n",
    "\n",
    "print(School1.name) # Jane\n",
    "print(School2.name) # John    \n",
    "    \n",
    "    \n",
    "    "
   ]
  },
  {
   "cell_type": "code",
   "execution_count": null,
   "id": "86dbd99a",
   "metadata": {},
   "outputs": [],
   "source": [
    "\n",
    "Q3. Where and how should be class attributes created?"
   ]
  },
  {
   "cell_type": "code",
   "execution_count": null,
   "id": "07435826",
   "metadata": {},
   "outputs": [],
   "source": [
    "Class attributes are the variables defined directly in the class that are shared by all objects of the class.\n",
    "Instance attributes are attributes or properties attached to an instance of a class. Instance attributes are defined\n",
    "in the constructor.Defined directly inside a class."
   ]
  },
  {
   "cell_type": "code",
   "execution_count": null,
   "id": "a7b40a4b",
   "metadata": {},
   "outputs": [],
   "source": [
    "\n",
    "Q4. Where and how are instance attributes created?"
   ]
  },
  {
   "attachments": {},
   "cell_type": "markdown",
   "id": "a821f036",
   "metadata": {},
   "source": [
    "Instance attributes are attributes or properties attached to an instance of a class. Instance attributes are defined in the constructor.Defined inside a constructor using the self parameter."
   ]
  },
  {
   "cell_type": "code",
   "execution_count": null,
   "id": "ee4c9529",
   "metadata": {},
   "outputs": [],
   "source": [
    "\n",
    "Q5. What does the term \"self\" in a Python class mean?"
   ]
  },
  {
   "cell_type": "code",
   "execution_count": null,
   "id": "ffa08ccc",
   "metadata": {},
   "outputs": [],
   "source": [
    "The self parameter is a reference to the current instance of the class, and is used to access variables that belongs to the class.__init__(self) method, a default parameter, named 'self' is always passed in its argument.\n",
    " This self represents the object of the class itself."
   ]
  },
  {
   "cell_type": "code",
   "execution_count": null,
   "id": "0734d2a6",
   "metadata": {},
   "outputs": [],
   "source": [
    "\n",
    "Q6. How does a Python class handle operator overloading?"
   ]
  },
  {
   "attachments": {},
   "cell_type": "markdown",
   "id": "05959c91",
   "metadata": {},
   "source": [
    "Operator Overloading means giving extended meaning beyond their predefined operational meaning. For example operator + is used to add two integers as well as join two strings and merge two lists. It is achievable because ‘+’ operator is overloaded by int class and str class. "
   ]
  },
  {
   "cell_type": "code",
   "execution_count": 2,
   "id": "9fa9b118",
   "metadata": {},
   "outputs": [
    {
     "name": "stdout",
     "output_type": "stream",
     "text": [
      "(3, 5)\n"
     ]
    }
   ],
   "source": [
    "# Python Program to perform addition\n",
    "# of two complex numbers using binary\n",
    "# + operator overloading.\n",
    " \n",
    "class complex:\n",
    "    def __init__(self, a, b):\n",
    "        self.a = a\n",
    "        self.b = b\n",
    " \n",
    "     # adding two objects\n",
    "    def __add__(self, other):\n",
    "        return self.a + other.a, self.b + other.b\n",
    " \n",
    "Ob1 = complex(1, 2)\n",
    "Ob2 = complex(2, 3)\n",
    "Ob3 = Ob1 + Ob2\n",
    "print(Ob3)"
   ]
  },
  {
   "cell_type": "code",
   "execution_count": null,
   "id": "d7788c17",
   "metadata": {},
   "outputs": [],
   "source": [
    "\n",
    "Q7. When do you consider allowing operator overloading of your classes?"
   ]
  },
  {
   "cell_type": "code",
   "execution_count": null,
   "id": "101914ac",
   "metadata": {},
   "outputs": [],
   "source": [
    "When one or both operands are of a user-defined class or structure type, operator overloading makes it easier to specify user-defined implementation \n",
    "for such operations. This makes user-defined types more \n",
    "similar to the basic primitive data types in terms of behaviour."
   ]
  },
  {
   "cell_type": "code",
   "execution_count": null,
   "id": "aeba9205",
   "metadata": {},
   "outputs": [],
   "source": [
    "\n",
    "Q8. What is the most popular form of operator overloading?\n"
   ]
  },
  {
   "cell_type": "code",
   "execution_count": null,
   "id": "3dff3fdc",
   "metadata": {},
   "outputs": [],
   "source": [
    "A very popular and convenient form is the Addition (+) operator."
   ]
  },
  {
   "cell_type": "code",
   "execution_count": null,
   "id": "87ba4315",
   "metadata": {},
   "outputs": [],
   "source": [
    "\n",
    "Q9. What are the two most important concepts to grasp in order to comprehend Python OOP code?"
   ]
  },
  {
   "cell_type": "code",
   "execution_count": null,
   "id": "9b3cfff8",
   "metadata": {},
   "outputs": [],
   "source": [
    " inheritance and polymorphism are fundamental concepts of object oriented programming. These concepts help us to create code that can be extended\n",
    "and easily maintainable."
   ]
  }
 ],
 "metadata": {
  "kernelspec": {
   "display_name": "Python 3 (ipykernel)",
   "language": "python",
   "name": "python3"
  },
  "language_info": {
   "codemirror_mode": {
    "name": "ipython",
    "version": 3
   },
   "file_extension": ".py",
   "mimetype": "text/x-python",
   "name": "python",
   "nbconvert_exporter": "python",
   "pygments_lexer": "ipython3",
   "version": "3.9.13"
  }
 },
 "nbformat": 4,
 "nbformat_minor": 5
}
