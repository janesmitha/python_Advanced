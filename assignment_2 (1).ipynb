{
 "cells": [
  {
   "cell_type": "code",
   "execution_count": null,
   "id": "a346f1f6",
   "metadata": {},
   "outputs": [],
   "source": [
    "Q1. What is the purpose of Python's OOP?"
   ]
  },
  {
   "cell_type": "code",
   "execution_count": null,
   "id": "10cda1d8",
   "metadata": {},
   "outputs": [],
   "source": [
    "In Python, we can easily create and use classes and objects. An object-oriented paradigm is to design the program using\n",
    "classes and objects. The object is related to real-word entities"
   ]
  },
  {
   "cell_type": "code",
   "execution_count": null,
   "id": "13dc6e14",
   "metadata": {},
   "outputs": [],
   "source": [
    "Q2. Where does an inheritance search look for an attribute?\n"
   ]
  },
  {
   "attachments": {},
   "cell_type": "markdown",
   "id": "68b1d6d3",
   "metadata": {},
   "source": [
    "An inheritance search looks for an attribute first in the instance object, then in the class the instance was created from, then in all higher superclasses, progressing from left to right (by default). The search stops at the first place the attribute is found."
   ]
  },
  {
   "cell_type": "code",
   "execution_count": null,
   "id": "c062d87c",
   "metadata": {},
   "outputs": [],
   "source": [
    "\n",
    "\n",
    "Q3. How do you distinguish between a class object and an instance object?"
   ]
  },
  {
   "cell_type": "code",
   "execution_count": null,
   "id": "af996b9a",
   "metadata": {},
   "outputs": [],
   "source": [
    "Class objects represent the class itself, while instance objects represent individual instances of the class. \n",
    "Class objects can have class-level attributes and methods that are shared among all instances of the class, while instance objects have their own set\n",
    " of attributes and methods that are independent of other."
   ]
  },
  {
   "cell_type": "code",
   "execution_count": null,
   "id": "85f94c32",
   "metadata": {},
   "outputs": [],
   "source": [
    "\n",
    "\n",
    "Q4. What makes the first argument in a class’s method function special?"
   ]
  },
  {
   "cell_type": "code",
   "execution_count": null,
   "id": "ef4eb564",
   "metadata": {},
   "outputs": [],
   "source": [
    "\n",
    "A class method is similar to an instance method, but it has a class object passed as its first argument."
   ]
  },
  {
   "cell_type": "code",
   "execution_count": null,
   "id": "9bfbe48b",
   "metadata": {},
   "outputs": [],
   "source": [
    "\n",
    "\n",
    "Q5. What is the purpose of the __init__ method?"
   ]
  },
  {
   "cell_type": "code",
   "execution_count": null,
   "id": "7c9416f5",
   "metadata": {},
   "outputs": [],
   "source": [
    "It is called as a constructor in object oriented terminology. This method is called when an object is created from a class and it allows the\n",
    "class to initialize the attributes of the class."
   ]
  },
  {
   "cell_type": "code",
   "execution_count": null,
   "id": "03a90460",
   "metadata": {},
   "outputs": [],
   "source": [
    "\n",
    "Q6. What is the process for creating a class instance?"
   ]
  },
  {
   "cell_type": "code",
   "execution_count": null,
   "id": "f593af2d",
   "metadata": {},
   "outputs": [],
   "source": [
    "An inheritance search looks for an attribute first in the instance object, then in the class the instance was created from, \n",
    "then in all higher superclasses, progressing from left to right (by default). \n",
    "\n"
   ]
  },
  {
   "cell_type": "code",
   "execution_count": null,
   "id": "f2ec5c56",
   "metadata": {},
   "outputs": [],
   "source": [
    "\n",
    "\n",
    "Q7. What is the process for creating a class?"
   ]
  },
  {
   "cell_type": "code",
   "execution_count": null,
   "id": "3b1f734a",
   "metadata": {},
   "outputs": [],
   "source": [
    "In Python, a class can be created by using the keyword class, followed by the class name."
   ]
  },
  {
   "cell_type": "code",
   "execution_count": null,
   "id": "987e894b",
   "metadata": {},
   "outputs": [],
   "source": [
    "\n",
    "Q8. How would you define the superclasses of a class\n"
   ]
  },
  {
   "cell_type": "code",
   "execution_count": null,
   "id": "6aff264d",
   "metadata": {},
   "outputs": [],
   "source": [
    "A class that is derived from another class is called a subclass (also a derived class, extended class, or child class). The class from which the subclass is derived\n",
    " is called a superclass (also a base class or a parent class)."
   ]
  }
 ],
 "metadata": {
  "kernelspec": {
   "display_name": "Python 3 (ipykernel)",
   "language": "python",
   "name": "python3"
  },
  "language_info": {
   "codemirror_mode": {
    "name": "ipython",
    "version": 3
   },
   "file_extension": ".py",
   "mimetype": "text/x-python",
   "name": "python",
   "nbconvert_exporter": "python",
   "pygments_lexer": "ipython3",
   "version": "3.9.13"
  }
 },
 "nbformat": 4,
 "nbformat_minor": 5
}
